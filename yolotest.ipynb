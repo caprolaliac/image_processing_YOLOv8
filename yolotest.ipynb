{
  "metadata": {
    "kernelspec": {
      "language": "python",
      "display_name": "Python 3",
      "name": "python3"
    },
    "language_info": {
      "name": "python",
      "version": "3.10.13",
      "mimetype": "text/x-python",
      "codemirror_mode": {
        "name": "ipython",
        "version": 3
      },
      "pygments_lexer": "ipython3",
      "nbconvert_exporter": "python",
      "file_extension": ".py"
    },
    "kaggle": {
      "accelerator": "nvidiaTeslaT4",
      "dataSources": [
        {
          "sourceId": 7896228,
          "sourceType": "datasetVersion",
          "datasetId": 4636682
        }
      ],
      "dockerImageVersionId": 30665,
      "isInternetEnabled": true,
      "language": "python",
      "sourceType": "notebook",
      "isGpuEnabled": true
    },
    "colab": {
      "name": "yolotest",
      "provenance": [],
      "include_colab_link": true
    }
  },
  "nbformat_minor": 0,
  "nbformat": 4,
  "cells": [
    {
      "cell_type": "markdown",
      "metadata": {
        "id": "view-in-github",
        "colab_type": "text"
      },
      "source": [
        "<a href=\"https://colab.research.google.com/github/caprolaliac/image_processing_YOLOv8/blob/main/yolotest.ipynb\" target=\"_parent\"><img src=\"https://colab.research.google.com/assets/colab-badge.svg\" alt=\"Open In Colab\"/></a>"
      ]
    },
    {
      "source": [
        "\n",
        "# IMPORTANT: RUN THIS CELL IN ORDER TO IMPORT YOUR KAGGLE DATA SOURCES\n",
        "# TO THE CORRECT LOCATION (/kaggle/input) IN YOUR NOTEBOOK,\n",
        "# THEN FEEL FREE TO DELETE THIS CELL.\n",
        "# NOTE: THIS NOTEBOOK ENVIRONMENT DIFFERS FROM KAGGLE'S PYTHON\n",
        "# ENVIRONMENT SO THERE MAY BE MISSING LIBRARIES USED BY YOUR\n",
        "# NOTEBOOK.\n",
        "\n",
        "import os\n",
        "import sys\n",
        "from tempfile import NamedTemporaryFile\n",
        "from urllib.request import urlopen\n",
        "from urllib.parse import unquote, urlparse\n",
        "from urllib.error import HTTPError\n",
        "from zipfile import ZipFile\n",
        "import tarfile\n",
        "import shutil\n",
        "\n",
        "CHUNK_SIZE = 40960\n",
        "DATA_SOURCE_MAPPING = 'detect-footpath-vendors:https%3A%2F%2Fstorage.googleapis.com%2Fkaggle-data-sets%2F4636682%2F7896228%2Fbundle%2Farchive.zip%3FX-Goog-Algorithm%3DGOOG4-RSA-SHA256%26X-Goog-Credential%3Dgcp-kaggle-com%2540kaggle-161607.iam.gserviceaccount.com%252F20240402%252Fauto%252Fstorage%252Fgoog4_request%26X-Goog-Date%3D20240402T051737Z%26X-Goog-Expires%3D259200%26X-Goog-SignedHeaders%3Dhost%26X-Goog-Signature%3De08c4bf76b56f8be60778d2c1f04c75fff8454a224ac1baa2b5ab00ae17ac0c5781967de09f6e4878b640abb0a3ed98af0b04ac1ad0373c5db1895f4cbc1271f027374453ef8e8439b8dc5f951860abba6d199bc6b2a7beebf08b0c58f28c70dc1fdac6a13a1bc045599823a9558a736ff55e6a3332f14aa0e86f489ef92498cc63cba82c9dd4d1b6be434604ff2d2e392dc0ea4bcafbe61772cd6492dc8d21c8b08f8e6cb3da05bd31cb36aa1337c57dacbd15947de5ef0360221519c2acd9a7ffba2dfaa35eb6c4b3539d115e518992c1294f8df3acb0abb7ecd51d78d99c48c2e62e7592373b92dfa7a3df38ca759ff5d53e2df0734814dcc952d50801be4'\n",
        "\n",
        "KAGGLE_INPUT_PATH='/kaggle/input'\n",
        "KAGGLE_WORKING_PATH='/kaggle/working'\n",
        "KAGGLE_SYMLINK='kaggle'\n",
        "\n",
        "!umount /kaggle/input/ 2> /dev/null\n",
        "shutil.rmtree('/kaggle/input', ignore_errors=True)\n",
        "os.makedirs(KAGGLE_INPUT_PATH, 0o777, exist_ok=True)\n",
        "os.makedirs(KAGGLE_WORKING_PATH, 0o777, exist_ok=True)\n",
        "\n",
        "try:\n",
        "  os.symlink(KAGGLE_INPUT_PATH, os.path.join(\"..\", 'input'), target_is_directory=True)\n",
        "except FileExistsError:\n",
        "  pass\n",
        "try:\n",
        "  os.symlink(KAGGLE_WORKING_PATH, os.path.join(\"..\", 'working'), target_is_directory=True)\n",
        "except FileExistsError:\n",
        "  pass\n",
        "\n",
        "for data_source_mapping in DATA_SOURCE_MAPPING.split(','):\n",
        "    directory, download_url_encoded = data_source_mapping.split(':')\n",
        "    download_url = unquote(download_url_encoded)\n",
        "    filename = urlparse(download_url).path\n",
        "    destination_path = os.path.join(KAGGLE_INPUT_PATH, directory)\n",
        "    try:\n",
        "        with urlopen(download_url) as fileres, NamedTemporaryFile() as tfile:\n",
        "            total_length = fileres.headers['content-length']\n",
        "            print(f'Downloading {directory}, {total_length} bytes compressed')\n",
        "            dl = 0\n",
        "            data = fileres.read(CHUNK_SIZE)\n",
        "            while len(data) > 0:\n",
        "                dl += len(data)\n",
        "                tfile.write(data)\n",
        "                done = int(50 * dl / int(total_length))\n",
        "                sys.stdout.write(f\"\\r[{'=' * done}{' ' * (50-done)}] {dl} bytes downloaded\")\n",
        "                sys.stdout.flush()\n",
        "                data = fileres.read(CHUNK_SIZE)\n",
        "            if filename.endswith('.zip'):\n",
        "              with ZipFile(tfile) as zfile:\n",
        "                zfile.extractall(destination_path)\n",
        "            else:\n",
        "              with tarfile.open(tfile.name) as tarfile:\n",
        "                tarfile.extractall(destination_path)\n",
        "            print(f'\\nDownloaded and uncompressed: {directory}')\n",
        "    except HTTPError as e:\n",
        "        print(f'Failed to load (likely expired) {download_url} to path {destination_path}')\n",
        "        continue\n",
        "    except OSError as e:\n",
        "        print(f'Failed to load {download_url} to path {destination_path}')\n",
        "        continue\n",
        "\n",
        "print('Data source import complete.')\n"
      ],
      "metadata": {
        "id": "mTDZ0mcYPdw6"
      },
      "cell_type": "code",
      "outputs": [],
      "execution_count": null
    },
    {
      "cell_type": "code",
      "source": [
        "!pip install ultralytics -U"
      ],
      "metadata": {
        "execution": {
          "iopub.status.busy": "2024-04-01T12:07:28.953167Z",
          "iopub.execute_input": "2024-04-01T12:07:28.953765Z",
          "iopub.status.idle": "2024-04-01T12:07:41.726546Z",
          "shell.execute_reply.started": "2024-04-01T12:07:28.953733Z",
          "shell.execute_reply": "2024-04-01T12:07:41.725368Z"
        },
        "collapsed": true,
        "jupyter": {
          "outputs_hidden": true
        },
        "trusted": true,
        "id": "D8oAxnWtPdxE",
        "outputId": "7dfe3bdd-2a1a-464b-dab6-59c7f14d7663"
      },
      "execution_count": null,
      "outputs": [
        {
          "name": "stdout",
          "text": "Requirement already satisfied: ultralytics in /opt/conda/lib/python3.10/site-packages (8.1.40)\nRequirement already satisfied: matplotlib>=3.3.0 in /opt/conda/lib/python3.10/site-packages (from ultralytics) (3.7.5)\nRequirement already satisfied: opencv-python>=4.6.0 in /opt/conda/lib/python3.10/site-packages (from ultralytics) (4.9.0.80)\nRequirement already satisfied: pillow>=7.1.2 in /opt/conda/lib/python3.10/site-packages (from ultralytics) (9.5.0)\nRequirement already satisfied: pyyaml>=5.3.1 in /opt/conda/lib/python3.10/site-packages (from ultralytics) (6.0.1)\nRequirement already satisfied: requests>=2.23.0 in /opt/conda/lib/python3.10/site-packages (from ultralytics) (2.31.0)\nRequirement already satisfied: scipy>=1.4.1 in /opt/conda/lib/python3.10/site-packages (from ultralytics) (1.11.4)\nRequirement already satisfied: torch>=1.8.0 in /opt/conda/lib/python3.10/site-packages (from ultralytics) (2.1.2)\nRequirement already satisfied: torchvision>=0.9.0 in /opt/conda/lib/python3.10/site-packages (from ultralytics) (0.16.2)\nRequirement already satisfied: tqdm>=4.64.0 in /opt/conda/lib/python3.10/site-packages (from ultralytics) (4.66.1)\nRequirement already satisfied: psutil in /opt/conda/lib/python3.10/site-packages (from ultralytics) (5.9.3)\nRequirement already satisfied: py-cpuinfo in /opt/conda/lib/python3.10/site-packages (from ultralytics) (9.0.0)\nRequirement already satisfied: thop>=0.1.1 in /opt/conda/lib/python3.10/site-packages (from ultralytics) (0.1.1.post2209072238)\nRequirement already satisfied: pandas>=1.1.4 in /opt/conda/lib/python3.10/site-packages (from ultralytics) (2.1.4)\nRequirement already satisfied: seaborn>=0.11.0 in /opt/conda/lib/python3.10/site-packages (from ultralytics) (0.12.2)\nRequirement already satisfied: contourpy>=1.0.1 in /opt/conda/lib/python3.10/site-packages (from matplotlib>=3.3.0->ultralytics) (1.2.0)\nRequirement already satisfied: cycler>=0.10 in /opt/conda/lib/python3.10/site-packages (from matplotlib>=3.3.0->ultralytics) (0.12.1)\nRequirement already satisfied: fonttools>=4.22.0 in /opt/conda/lib/python3.10/site-packages (from matplotlib>=3.3.0->ultralytics) (4.47.0)\nRequirement already satisfied: kiwisolver>=1.0.1 in /opt/conda/lib/python3.10/site-packages (from matplotlib>=3.3.0->ultralytics) (1.4.5)\nRequirement already satisfied: numpy<2,>=1.20 in /opt/conda/lib/python3.10/site-packages (from matplotlib>=3.3.0->ultralytics) (1.26.4)\nRequirement already satisfied: packaging>=20.0 in /opt/conda/lib/python3.10/site-packages (from matplotlib>=3.3.0->ultralytics) (21.3)\nRequirement already satisfied: pyparsing>=2.3.1 in /opt/conda/lib/python3.10/site-packages (from matplotlib>=3.3.0->ultralytics) (3.1.1)\nRequirement already satisfied: python-dateutil>=2.7 in /opt/conda/lib/python3.10/site-packages (from matplotlib>=3.3.0->ultralytics) (2.8.2)\nRequirement already satisfied: pytz>=2020.1 in /opt/conda/lib/python3.10/site-packages (from pandas>=1.1.4->ultralytics) (2023.3.post1)\nRequirement already satisfied: tzdata>=2022.1 in /opt/conda/lib/python3.10/site-packages (from pandas>=1.1.4->ultralytics) (2023.4)\nRequirement already satisfied: charset-normalizer<4,>=2 in /opt/conda/lib/python3.10/site-packages (from requests>=2.23.0->ultralytics) (3.3.2)\nRequirement already satisfied: idna<4,>=2.5 in /opt/conda/lib/python3.10/site-packages (from requests>=2.23.0->ultralytics) (3.6)\nRequirement already satisfied: urllib3<3,>=1.21.1 in /opt/conda/lib/python3.10/site-packages (from requests>=2.23.0->ultralytics) (1.26.18)\nRequirement already satisfied: certifi>=2017.4.17 in /opt/conda/lib/python3.10/site-packages (from requests>=2.23.0->ultralytics) (2024.2.2)\nRequirement already satisfied: filelock in /opt/conda/lib/python3.10/site-packages (from torch>=1.8.0->ultralytics) (3.13.1)\nRequirement already satisfied: typing-extensions in /opt/conda/lib/python3.10/site-packages (from torch>=1.8.0->ultralytics) (4.9.0)\nRequirement already satisfied: sympy in /opt/conda/lib/python3.10/site-packages (from torch>=1.8.0->ultralytics) (1.12)\nRequirement already satisfied: networkx in /opt/conda/lib/python3.10/site-packages (from torch>=1.8.0->ultralytics) (3.2.1)\nRequirement already satisfied: jinja2 in /opt/conda/lib/python3.10/site-packages (from torch>=1.8.0->ultralytics) (3.1.2)\nRequirement already satisfied: fsspec in /opt/conda/lib/python3.10/site-packages (from torch>=1.8.0->ultralytics) (2024.2.0)\nRequirement already satisfied: six>=1.5 in /opt/conda/lib/python3.10/site-packages (from python-dateutil>=2.7->matplotlib>=3.3.0->ultralytics) (1.16.0)\nRequirement already satisfied: MarkupSafe>=2.0 in /opt/conda/lib/python3.10/site-packages (from jinja2->torch>=1.8.0->ultralytics) (2.1.3)\nRequirement already satisfied: mpmath>=0.19 in /opt/conda/lib/python3.10/site-packages (from sympy->torch>=1.8.0->ultralytics) (1.3.0)\n",
          "output_type": "stream"
        }
      ]
    },
    {
      "cell_type": "code",
      "source": [
        "from ultralytics import YOLO\n",
        "\n",
        "model = YOLO('yolov8x-obb.pt')\n",
        "\n",
        "results = model('/kaggle/input/detect-footpath-vendors/Detect footpath vendors.v6i.yolov8-obb/test/images/58_jpg.rf.5ff4a76b1f42864e3eac3b9102fdaef2.jpg',imgsz=640, save=True)  # predict on an image"
      ],
      "metadata": {
        "execution": {
          "iopub.status.busy": "2024-04-01T12:07:41.728903Z",
          "iopub.execute_input": "2024-04-01T12:07:41.729756Z",
          "iopub.status.idle": "2024-04-01T12:07:43.201407Z",
          "shell.execute_reply.started": "2024-04-01T12:07:41.729716Z",
          "shell.execute_reply": "2024-04-01T12:07:43.200468Z"
        },
        "collapsed": true,
        "jupyter": {
          "outputs_hidden": true
        },
        "trusted": true,
        "id": "Xrd6Gyb6PdxG",
        "outputId": "acc26a68-cf0b-4f8a-cac4-54bf58ed1b19"
      },
      "execution_count": null,
      "outputs": [
        {
          "name": "stdout",
          "text": "\nimage 1/1 /kaggle/input/detect-footpath-vendors/Detect footpath vendors.v6i.yolov8-obb/test/images/58_jpg.rf.5ff4a76b1f42864e3eac3b9102fdaef2.jpg: 640x640 (no detections), 77.6ms\nSpeed: 1.7ms preprocess, 77.6ms inference, 0.9ms postprocess per image at shape (1, 3, 640, 640)\nResults saved to \u001b[1mruns/obb/predict3\u001b[0m\n",
          "output_type": "stream"
        }
      ]
    },
    {
      "cell_type": "code",
      "source": [
        "model = YOLO('yolov8x-obb.pt')\n",
        "\n",
        "results = model.train(data='/kaggle/input/detect-footpath-vendors/Detect footpath vendors.v6i.yolov8-obb/data.yaml', epochs=100, imgsz=640)"
      ],
      "metadata": {
        "execution": {
          "iopub.status.busy": "2024-04-01T12:07:43.202776Z",
          "iopub.execute_input": "2024-04-01T12:07:43.203404Z",
          "iopub.status.idle": "2024-04-01T12:39:48.814481Z",
          "shell.execute_reply.started": "2024-04-01T12:07:43.203367Z",
          "shell.execute_reply": "2024-04-01T12:39:48.813457Z"
        },
        "trusted": true,
        "id": "XtQrSrjZPdxH",
        "outputId": "52695764-6070-4f09-fb1f-9e72c51b6a6c",
        "colab": {
          "referenced_widgets": [
            "21434c913dbc452fbc3d8a762d9c6f15"
          ]
        }
      },
      "execution_count": null,
      "outputs": [
        {
          "name": "stdout",
          "text": "Ultralytics YOLOv8.1.40 🚀 Python-3.10.13 torch-2.1.2 CUDA:0 (Tesla T4, 15102MiB)\n\u001b[34m\u001b[1mengine/trainer: \u001b[0mtask=obb, mode=train, model=yolov8x-obb.pt, data=/kaggle/input/detect-footpath-vendors/Detect footpath vendors.v6i.yolov8-obb/data.yaml, epochs=100, time=None, patience=100, batch=16, imgsz=640, save=True, save_period=-1, cache=False, device=None, workers=8, project=None, name=train2, exist_ok=False, pretrained=True, optimizer=auto, verbose=True, seed=0, deterministic=True, single_cls=False, rect=False, cos_lr=False, close_mosaic=10, resume=False, amp=True, fraction=1.0, profile=False, freeze=None, multi_scale=False, overlap_mask=True, mask_ratio=4, dropout=0.0, val=True, split=val, save_json=False, save_hybrid=False, conf=None, iou=0.7, max_det=300, half=False, dnn=False, plots=True, source=None, vid_stride=1, stream_buffer=False, visualize=False, augment=False, agnostic_nms=False, classes=None, retina_masks=False, embed=None, show=False, save_frames=False, save_txt=False, save_conf=False, save_crop=False, show_labels=True, show_conf=True, show_boxes=True, line_width=None, format=torchscript, keras=False, optimize=False, int8=False, dynamic=False, simplify=False, opset=None, workspace=4, nms=False, lr0=0.01, lrf=0.01, momentum=0.937, weight_decay=0.0005, warmup_epochs=3.0, warmup_momentum=0.8, warmup_bias_lr=0.1, box=7.5, cls=0.5, dfl=1.5, pose=12.0, kobj=1.0, label_smoothing=0.0, nbs=64, hsv_h=0.015, hsv_s=0.7, hsv_v=0.4, degrees=0.0, translate=0.1, scale=0.5, shear=0.0, perspective=0.0, flipud=0.0, fliplr=0.5, bgr=0.0, mosaic=1.0, mixup=0.0, copy_paste=0.0, auto_augment=randaugment, erasing=0.4, crop_fraction=1.0, cfg=None, tracker=botsort.yaml, save_dir=runs/obb/train2\nOverriding model.yaml nc=15 with nc=41\n\n                   from  n    params  module                                       arguments                     \n  0                  -1  1      2320  ultralytics.nn.modules.conv.Conv             [3, 80, 3, 2]                 \n  1                  -1  1    115520  ultralytics.nn.modules.conv.Conv             [80, 160, 3, 2]               \n  2                  -1  3    436800  ultralytics.nn.modules.block.C2f             [160, 160, 3, True]           \n  3                  -1  1    461440  ultralytics.nn.modules.conv.Conv             [160, 320, 3, 2]              \n  4                  -1  6   3281920  ultralytics.nn.modules.block.C2f             [320, 320, 6, True]           \n  5                  -1  1   1844480  ultralytics.nn.modules.conv.Conv             [320, 640, 3, 2]              \n  6                  -1  6  13117440  ultralytics.nn.modules.block.C2f             [640, 640, 6, True]           \n  7                  -1  1   3687680  ultralytics.nn.modules.conv.Conv             [640, 640, 3, 2]              \n  8                  -1  3   6969600  ultralytics.nn.modules.block.C2f             [640, 640, 3, True]           \n  9                  -1  1   1025920  ultralytics.nn.modules.block.SPPF            [640, 640, 5]                 \n 10                  -1  1         0  torch.nn.modules.upsampling.Upsample         [None, 2, 'nearest']          \n 11             [-1, 6]  1         0  ultralytics.nn.modules.conv.Concat           [1]                           \n 12                  -1  3   7379200  ultralytics.nn.modules.block.C2f             [1280, 640, 3]                \n 13                  -1  1         0  torch.nn.modules.upsampling.Upsample         [None, 2, 'nearest']          \n 14             [-1, 4]  1         0  ultralytics.nn.modules.conv.Concat           [1]                           \n 15                  -1  3   1948800  ultralytics.nn.modules.block.C2f             [960, 320, 3]                 \n 16                  -1  1    922240  ultralytics.nn.modules.conv.Conv             [320, 320, 3, 2]              \n 17            [-1, 12]  1         0  ultralytics.nn.modules.conv.Concat           [1]                           \n 18                  -1  3   7174400  ultralytics.nn.modules.block.C2f             [960, 640, 3]                 \n 19                  -1  1   3687680  ultralytics.nn.modules.conv.Conv             [640, 640, 3, 2]              \n 20             [-1, 9]  1         0  ultralytics.nn.modules.conv.Concat           [1]                           \n 21                  -1  3   7379200  ultralytics.nn.modules.block.C2f             [1280, 640, 3]                \n 22        [15, 18, 21]  1  10083454  ultralytics.nn.modules.head.OBB              [41, 1, [320, 640, 640]]      \nYOLOv8x-obb summary: 390 layers, 69518094 parameters, 69518078 gradients, 264.1 GFLOPs\n\nTransferred 631/637 items from pretrained weights\n\u001b[34m\u001b[1mTensorBoard: \u001b[0mStart with 'tensorboard --logdir runs/obb/train2', view at http://localhost:6006/\n",
          "output_type": "stream"
        },
        {
          "name": "stderr",
          "text": "\u001b[34m\u001b[1mwandb\u001b[0m: Currently logged in as: \u001b[33mgvgvgv033\u001b[0m (\u001b[33mveghotdog\u001b[0m). Use \u001b[1m`wandb login --relogin`\u001b[0m to force relogin\n",
          "output_type": "stream"
        },
        {
          "output_type": "display_data",
          "data": {
            "text/plain": "<IPython.core.display.HTML object>",
            "text/html": "wandb version 0.16.5 is available!  To upgrade, please run:\n $ pip install wandb --upgrade"
          },
          "metadata": {}
        },
        {
          "output_type": "display_data",
          "data": {
            "text/plain": "<IPython.core.display.HTML object>",
            "text/html": "Tracking run with wandb version 0.16.3"
          },
          "metadata": {}
        },
        {
          "output_type": "display_data",
          "data": {
            "text/plain": "<IPython.core.display.HTML object>",
            "text/html": "Run data is saved locally in <code>/kaggle/working/wandb/run-20240401_120745-h3jbvym8</code>"
          },
          "metadata": {}
        },
        {
          "output_type": "display_data",
          "data": {
            "text/plain": "<IPython.core.display.HTML object>",
            "text/html": "Syncing run <strong><a href='https://wandb.ai/veghotdog/YOLOv8/runs/h3jbvym8' target=\"_blank\">train2</a></strong> to <a href='https://wandb.ai/veghotdog/YOLOv8' target=\"_blank\">Weights & Biases</a> (<a href='https://wandb.me/run' target=\"_blank\">docs</a>)<br/>"
          },
          "metadata": {}
        },
        {
          "output_type": "display_data",
          "data": {
            "text/plain": "<IPython.core.display.HTML object>",
            "text/html": " View project at <a href='https://wandb.ai/veghotdog/YOLOv8' target=\"_blank\">https://wandb.ai/veghotdog/YOLOv8</a>"
          },
          "metadata": {}
        },
        {
          "output_type": "display_data",
          "data": {
            "text/plain": "<IPython.core.display.HTML object>",
            "text/html": " View run at <a href='https://wandb.ai/veghotdog/YOLOv8/runs/h3jbvym8' target=\"_blank\">https://wandb.ai/veghotdog/YOLOv8/runs/h3jbvym8</a>"
          },
          "metadata": {}
        },
        {
          "name": "stdout",
          "text": "Freezing layer 'model.22.dfl.conv.weight'\n\u001b[34m\u001b[1mAMP: \u001b[0mrunning Automatic Mixed Precision (AMP) checks with YOLOv8n...\n\u001b[34m\u001b[1mAMP: \u001b[0mchecks passed ✅\n",
          "output_type": "stream"
        },
        {
          "name": "stderr",
          "text": "\u001b[34m\u001b[1mtrain: \u001b[0mScanning /kaggle/input/detect-footpath-vendors/Detect footpath vendors.v6i.yolov8-obb/train/labels... 180 images, 1 backgrounds, 0 corrupt: 100%|██████████| 180/180 [00:00<00:00, 603.54it/s]\n",
          "output_type": "stream"
        },
        {
          "name": "stdout",
          "text": "\u001b[34m\u001b[1mtrain: \u001b[0mWARNING ⚠️ Cache directory /kaggle/input/detect-footpath-vendors/Detect footpath vendors.v6i.yolov8-obb/train is not writeable, cache not saved.\n\u001b[34m\u001b[1malbumentations: \u001b[0mBlur(p=0.01, blur_limit=(3, 7)), MedianBlur(p=0.01, blur_limit=(3, 7)), ToGray(p=0.01), CLAHE(p=0.01, clip_limit=(1, 4.0), tile_grid_size=(8, 8))\n",
          "output_type": "stream"
        },
        {
          "name": "stderr",
          "text": "\u001b[34m\u001b[1mval: \u001b[0mScanning /kaggle/input/detect-footpath-vendors/Detect footpath vendors.v6i.yolov8-obb/valid/labels... 52 images, 0 backgrounds, 0 corrupt: 100%|██████████| 52/52 [00:00<00:00, 536.84it/s]",
          "output_type": "stream"
        },
        {
          "name": "stdout",
          "text": "\u001b[34m\u001b[1mval: \u001b[0mWARNING ⚠️ Cache directory /kaggle/input/detect-footpath-vendors/Detect footpath vendors.v6i.yolov8-obb/valid is not writeable, cache not saved.\n",
          "output_type": "stream"
        },
        {
          "name": "stderr",
          "text": "\n",
          "output_type": "stream"
        },
        {
          "name": "stdout",
          "text": "Plotting labels to runs/obb/train2/labels.jpg... \n\u001b[34m\u001b[1moptimizer:\u001b[0m 'optimizer=auto' found, ignoring 'lr0=0.01' and 'momentum=0.937' and determining best 'optimizer', 'lr0' and 'momentum' automatically... \n\u001b[34m\u001b[1moptimizer:\u001b[0m AdamW(lr=0.000222, momentum=0.9) with parameter groups 103 weight(decay=0.0), 113 weight(decay=0.0005), 112 bias(decay=0.0)\n\u001b[34m\u001b[1mTensorBoard: \u001b[0mmodel graph visualization added ✅\nImage sizes 640 train, 640 val\nUsing 2 dataloader workers\nLogging results to \u001b[1mruns/obb/train2\u001b[0m\nStarting training for 100 epochs...\n\n      Epoch    GPU_mem   box_loss   cls_loss   dfl_loss  Instances       Size\n",
          "output_type": "stream"
        },
        {
          "name": "stderr",
          "text": "      1/100      14.4G      2.325      5.133      3.632         24        640: 100%|██████████| 12/12 [00:14<00:00,  1.25s/it]\n                 Class     Images  Instances      Box(P          R      mAP50  mAP50-95): 100%|██████████| 4/4 [00:01<00:00,  2.27it/s]",
          "output_type": "stream"
        },
        {
          "name": "stdout",
          "text": "                   all         52        240    0.00313    0.00625     0.0019    0.00047\n",
          "output_type": "stream"
        },
        {
          "name": "stderr",
          "text": "\n",
          "output_type": "stream"
        },
        {
          "name": "stdout",
          "text": "\n      Epoch    GPU_mem   box_loss   cls_loss   dfl_loss  Instances       Size\n",
          "output_type": "stream"
        },
        {
          "name": "stderr",
          "text": "      2/100      15.5G      1.941      4.903      3.374         28        640: 100%|██████████| 12/12 [00:14<00:00,  1.23s/it]\n                 Class     Images  Instances      Box(P          R      mAP50  mAP50-95): 100%|██████████| 4/4 [00:01<00:00,  2.27it/s]",
          "output_type": "stream"
        },
        {
          "name": "stdout",
          "text": "                   all         52        240     0.0064     0.0392     0.0081    0.00215\n",
          "output_type": "stream"
        },
        {
          "name": "stderr",
          "text": "\n",
          "output_type": "stream"
        },
        {
          "name": "stdout",
          "text": "\n      Epoch    GPU_mem   box_loss   cls_loss   dfl_loss  Instances       Size\n",
          "output_type": "stream"
        },
        {
          "name": "stderr",
          "text": "      3/100      15.3G      1.853      4.628      3.165         18        640: 100%|██████████| 12/12 [00:14<00:00,  1.19s/it]\n                 Class     Images  Instances      Box(P          R      mAP50  mAP50-95): 100%|██████████| 4/4 [00:01<00:00,  2.24it/s]",
          "output_type": "stream"
        },
        {
          "name": "stdout",
          "text": "                   all         52        240    0.00766      0.195      0.029     0.0132\n",
          "output_type": "stream"
        },
        {
          "name": "stderr",
          "text": "\n",
          "output_type": "stream"
        },
        {
          "name": "stdout",
          "text": "\n      Epoch    GPU_mem   box_loss   cls_loss   dfl_loss  Instances       Size\n",
          "output_type": "stream"
        },
        {
          "name": "stderr",
          "text": "      4/100      15.3G      1.773      4.087      2.949         48        640: 100%|██████████| 12/12 [00:14<00:00,  1.18s/it]\n                 Class     Images  Instances      Box(P          R      mAP50  mAP50-95): 100%|██████████| 4/4 [00:02<00:00,  1.84it/s]\n",
          "output_type": "stream"
        },
        {
          "name": "stdout",
          "text": "                   all         52        240      0.576     0.0523     0.0633       0.03\n\n      Epoch    GPU_mem   box_loss   cls_loss   dfl_loss  Instances       Size\n",
          "output_type": "stream"
        },
        {
          "name": "stderr",
          "text": "      5/100      15.3G      1.665      3.547      2.902         20        640: 100%|██████████| 12/12 [00:14<00:00,  1.19s/it]\n                 Class     Images  Instances      Box(P          R      mAP50  mAP50-95): 100%|██████████| 4/4 [00:02<00:00,  1.86it/s]\n",
          "output_type": "stream"
        },
        {
          "name": "stdout",
          "text": "                   all         52        240      0.626     0.0594     0.0628     0.0313\n\n      Epoch    GPU_mem   box_loss   cls_loss   dfl_loss  Instances       Size\n",
          "output_type": "stream"
        },
        {
          "name": "stderr",
          "text": "      6/100      14.4G      1.611      3.448      2.886         29        640: 100%|██████████| 12/12 [00:14<00:00,  1.19s/it]\n                 Class     Images  Instances      Box(P          R      mAP50  mAP50-95): 100%|██████████| 4/4 [00:02<00:00,  1.80it/s]",
          "output_type": "stream"
        },
        {
          "name": "stdout",
          "text": "                   all         52        240      0.568      0.113     0.0666     0.0291\n",
          "output_type": "stream"
        },
        {
          "name": "stderr",
          "text": "\n",
          "output_type": "stream"
        },
        {
          "name": "stdout",
          "text": "\n      Epoch    GPU_mem   box_loss   cls_loss   dfl_loss  Instances       Size\n",
          "output_type": "stream"
        },
        {
          "name": "stderr",
          "text": "      7/100      14.4G      1.552      3.266      2.893         20        640: 100%|██████████| 12/12 [00:14<00:00,  1.19s/it]\n                 Class     Images  Instances      Box(P          R      mAP50  mAP50-95): 100%|██████████| 4/4 [00:02<00:00,  1.58it/s]",
          "output_type": "stream"
        },
        {
          "name": "stdout",
          "text": "                   all         52        240      0.651     0.0981     0.0992     0.0432\n",
          "output_type": "stream"
        },
        {
          "name": "stderr",
          "text": "\n",
          "output_type": "stream"
        },
        {
          "name": "stdout",
          "text": "\n      Epoch    GPU_mem   box_loss   cls_loss   dfl_loss  Instances       Size\n",
          "output_type": "stream"
        },
        {
          "name": "stderr",
          "text": "      8/100      14.4G      1.512      3.024      2.848         30        640: 100%|██████████| 12/12 [00:14<00:00,  1.18s/it]\n                 Class     Images  Instances      Box(P          R      mAP50  mAP50-95): 100%|██████████| 4/4 [00:02<00:00,  1.71it/s]\n",
          "output_type": "stream"
        },
        {
          "name": "stdout",
          "text": "                   all         52        240       0.74     0.0893      0.101     0.0446\n\n      Epoch    GPU_mem   box_loss   cls_loss   dfl_loss  Instances       Size\n",
          "output_type": "stream"
        },
        {
          "name": "stderr",
          "text": "      9/100      14.4G      1.499      2.853       2.87         33        640: 100%|██████████| 12/12 [00:14<00:00,  1.18s/it]\n                 Class     Images  Instances      Box(P          R      mAP50  mAP50-95): 100%|██████████| 4/4 [00:02<00:00,  1.88it/s]\n",
          "output_type": "stream"
        },
        {
          "name": "stdout",
          "text": "                   all         52        240      0.605      0.119     0.0965     0.0476\n\n      Epoch    GPU_mem   box_loss   cls_loss   dfl_loss  Instances       Size\n",
          "output_type": "stream"
        },
        {
          "name": "stderr",
          "text": "     10/100      14.4G       1.46      2.823      2.955         27        640: 100%|██████████| 12/12 [00:14<00:00,  1.17s/it]\n                 Class     Images  Instances      Box(P          R      mAP50  mAP50-95): 100%|██████████| 4/4 [00:02<00:00,  1.89it/s]\n",
          "output_type": "stream"
        },
        {
          "name": "stdout",
          "text": "                   all         52        240      0.655      0.097      0.101     0.0541\n\n      Epoch    GPU_mem   box_loss   cls_loss   dfl_loss  Instances       Size\n",
          "output_type": "stream"
        },
        {
          "name": "stderr",
          "text": "     11/100      14.4G      1.409      2.723       2.89         18        640: 100%|██████████| 12/12 [00:14<00:00,  1.18s/it]\n                 Class     Images  Instances      Box(P          R      mAP50  mAP50-95): 100%|██████████| 4/4 [00:02<00:00,  1.84it/s]\n",
          "output_type": "stream"
        },
        {
          "name": "stdout",
          "text": "                   all         52        240       0.62     0.0939      0.113      0.052\n\n      Epoch    GPU_mem   box_loss   cls_loss   dfl_loss  Instances       Size\n",
          "output_type": "stream"
        },
        {
          "name": "stderr",
          "text": "     12/100      14.4G      1.445      2.636      2.828         14        640: 100%|██████████| 12/12 [00:14<00:00,  1.18s/it]\n                 Class     Images  Instances      Box(P          R      mAP50  mAP50-95): 100%|██████████| 4/4 [00:02<00:00,  1.78it/s]\n",
          "output_type": "stream"
        },
        {
          "name": "stdout",
          "text": "                   all         52        240      0.505      0.154      0.123     0.0617\n\n      Epoch    GPU_mem   box_loss   cls_loss   dfl_loss  Instances       Size\n",
          "output_type": "stream"
        },
        {
          "name": "stderr",
          "text": "     13/100      14.4G      1.469      2.592      2.797         16        640: 100%|██████████| 12/12 [00:14<00:00,  1.18s/it]\n                 Class     Images  Instances      Box(P          R      mAP50  mAP50-95): 100%|██████████| 4/4 [00:02<00:00,  1.74it/s]\n",
          "output_type": "stream"
        },
        {
          "name": "stdout",
          "text": "                   all         52        240       0.54      0.127      0.136     0.0717\n\n      Epoch    GPU_mem   box_loss   cls_loss   dfl_loss  Instances       Size\n",
          "output_type": "stream"
        },
        {
          "name": "stderr",
          "text": "     14/100      14.4G      1.392       2.45      2.868         30        640: 100%|██████████| 12/12 [00:14<00:00,  1.18s/it]\n                 Class     Images  Instances      Box(P          R      mAP50  mAP50-95): 100%|██████████| 4/4 [00:01<00:00,  2.01it/s]\n",
          "output_type": "stream"
        },
        {
          "name": "stdout",
          "text": "                   all         52        240      0.443      0.124      0.119     0.0683\n\n      Epoch    GPU_mem   box_loss   cls_loss   dfl_loss  Instances       Size\n",
          "output_type": "stream"
        },
        {
          "name": "stderr",
          "text": "     15/100      14.4G      1.326      2.354      2.793         29        640: 100%|██████████| 12/12 [00:14<00:00,  1.18s/it]\n                 Class     Images  Instances      Box(P          R      mAP50  mAP50-95): 100%|██████████| 4/4 [00:01<00:00,  2.03it/s]\n",
          "output_type": "stream"
        },
        {
          "name": "stdout",
          "text": "                   all         52        240      0.432      0.181      0.171     0.0887\n\n      Epoch    GPU_mem   box_loss   cls_loss   dfl_loss  Instances       Size\n",
          "output_type": "stream"
        },
        {
          "name": "stderr",
          "text": "     16/100      14.4G       1.35      2.235      2.753         31        640: 100%|██████████| 12/12 [00:14<00:00,  1.18s/it]\n                 Class     Images  Instances      Box(P          R      mAP50  mAP50-95): 100%|██████████| 4/4 [00:01<00:00,  2.08it/s]",
          "output_type": "stream"
        },
        {
          "name": "stdout",
          "text": "                   all         52        240      0.699      0.124      0.191      0.104\n",
          "output_type": "stream"
        },
        {
          "name": "stderr",
          "text": "\n",
          "output_type": "stream"
        },
        {
          "name": "stdout",
          "text": "\n      Epoch    GPU_mem   box_loss   cls_loss   dfl_loss  Instances       Size\n",
          "output_type": "stream"
        },
        {
          "name": "stderr",
          "text": "     17/100      14.4G      1.268      2.164      2.666         43        640: 100%|██████████| 12/12 [00:14<00:00,  1.18s/it]\n                 Class     Images  Instances      Box(P          R      mAP50  mAP50-95): 100%|██████████| 4/4 [00:01<00:00,  2.03it/s]\n",
          "output_type": "stream"
        },
        {
          "name": "stdout",
          "text": "                   all         52        240       0.64      0.167      0.187      0.106\n\n      Epoch    GPU_mem   box_loss   cls_loss   dfl_loss  Instances       Size\n",
          "output_type": "stream"
        },
        {
          "name": "stderr",
          "text": "     18/100      14.4G      1.321       2.05      2.748         25        640: 100%|██████████| 12/12 [00:14<00:00,  1.18s/it]\n                 Class     Images  Instances      Box(P          R      mAP50  mAP50-95): 100%|██████████| 4/4 [00:01<00:00,  2.07it/s]",
          "output_type": "stream"
        },
        {
          "name": "stdout",
          "text": "                   all         52        240      0.654      0.146      0.161       0.09\n",
          "output_type": "stream"
        },
        {
          "name": "stderr",
          "text": "\n",
          "output_type": "stream"
        },
        {
          "name": "stdout",
          "text": "\n      Epoch    GPU_mem   box_loss   cls_loss   dfl_loss  Instances       Size\n",
          "output_type": "stream"
        },
        {
          "name": "stderr",
          "text": "     19/100      14.4G      1.323      2.101      2.785         19        640: 100%|██████████| 12/12 [00:14<00:00,  1.19s/it]\n                 Class     Images  Instances      Box(P          R      mAP50  mAP50-95): 100%|██████████| 4/4 [00:01<00:00,  2.11it/s]",
          "output_type": "stream"
        },
        {
          "name": "stdout",
          "text": "                   all         52        240      0.603      0.174      0.206      0.112\n",
          "output_type": "stream"
        },
        {
          "name": "stderr",
          "text": "\n",
          "output_type": "stream"
        },
        {
          "name": "stdout",
          "text": "\n      Epoch    GPU_mem   box_loss   cls_loss   dfl_loss  Instances       Size\n",
          "output_type": "stream"
        },
        {
          "name": "stderr",
          "text": "     20/100      14.4G      1.311      2.103      2.722         22        640: 100%|██████████| 12/12 [00:14<00:00,  1.18s/it]\n                 Class     Images  Instances      Box(P          R      mAP50  mAP50-95): 100%|██████████| 4/4 [00:01<00:00,  2.17it/s]",
          "output_type": "stream"
        },
        {
          "name": "stdout",
          "text": "                   all         52        240      0.625      0.175        0.2      0.113\n",
          "output_type": "stream"
        },
        {
          "name": "stderr",
          "text": "\n",
          "output_type": "stream"
        },
        {
          "name": "stdout",
          "text": "\n      Epoch    GPU_mem   box_loss   cls_loss   dfl_loss  Instances       Size\n",
          "output_type": "stream"
        },
        {
          "name": "stderr",
          "text": "     21/100      14.4G      1.248      1.915       2.68         29        640: 100%|██████████| 12/12 [00:14<00:00,  1.18s/it]\n                 Class     Images  Instances      Box(P          R      mAP50  mAP50-95): 100%|██████████| 4/4 [00:01<00:00,  2.06it/s]",
          "output_type": "stream"
        },
        {
          "name": "stdout",
          "text": "                   all         52        240      0.585      0.203      0.237      0.125\n",
          "output_type": "stream"
        },
        {
          "name": "stderr",
          "text": "\n",
          "output_type": "stream"
        },
        {
          "name": "stdout",
          "text": "\n      Epoch    GPU_mem   box_loss   cls_loss   dfl_loss  Instances       Size\n",
          "output_type": "stream"
        },
        {
          "name": "stderr",
          "text": "     22/100      14.4G      1.224      1.922      2.712         36        640: 100%|██████████| 12/12 [00:14<00:00,  1.18s/it]\n                 Class     Images  Instances      Box(P          R      mAP50  mAP50-95): 100%|██████████| 4/4 [00:01<00:00,  2.08it/s]",
          "output_type": "stream"
        },
        {
          "name": "stdout",
          "text": "                   all         52        240      0.529      0.224       0.24      0.131\n",
          "output_type": "stream"
        },
        {
          "name": "stderr",
          "text": "\n",
          "output_type": "stream"
        },
        {
          "name": "stdout",
          "text": "\n      Epoch    GPU_mem   box_loss   cls_loss   dfl_loss  Instances       Size\n",
          "output_type": "stream"
        },
        {
          "name": "stderr",
          "text": "     23/100      14.4G      1.245      1.895      2.736         20        640: 100%|██████████| 12/12 [00:14<00:00,  1.18s/it]\n                 Class     Images  Instances      Box(P          R      mAP50  mAP50-95): 100%|██████████| 4/4 [00:01<00:00,  2.20it/s]",
          "output_type": "stream"
        },
        {
          "name": "stdout",
          "text": "                   all         52        240      0.425      0.213      0.224       0.12\n",
          "output_type": "stream"
        },
        {
          "name": "stderr",
          "text": "\n",
          "output_type": "stream"
        },
        {
          "name": "stdout",
          "text": "\n      Epoch    GPU_mem   box_loss   cls_loss   dfl_loss  Instances       Size\n",
          "output_type": "stream"
        },
        {
          "name": "stderr",
          "text": "     24/100      14.4G      1.278      1.829      2.796         23        640: 100%|██████████| 12/12 [00:14<00:00,  1.18s/it]\n                 Class     Images  Instances      Box(P          R      mAP50  mAP50-95): 100%|██████████| 4/4 [00:01<00:00,  2.24it/s]",
          "output_type": "stream"
        },
        {
          "name": "stdout",
          "text": "                   all         52        240      0.465      0.255      0.232      0.124\n",
          "output_type": "stream"
        },
        {
          "name": "stderr",
          "text": "\n",
          "output_type": "stream"
        },
        {
          "name": "stdout",
          "text": "\n      Epoch    GPU_mem   box_loss   cls_loss   dfl_loss  Instances       Size\n",
          "output_type": "stream"
        },
        {
          "name": "stderr",
          "text": "     25/100      14.4G      1.142      1.661      2.549         24        640: 100%|██████████| 12/12 [00:14<00:00,  1.18s/it]\n                 Class     Images  Instances      Box(P          R      mAP50  mAP50-95): 100%|██████████| 4/4 [00:01<00:00,  2.15it/s]",
          "output_type": "stream"
        },
        {
          "name": "stdout",
          "text": "                   all         52        240      0.601      0.232      0.234      0.126\n",
          "output_type": "stream"
        },
        {
          "name": "stderr",
          "text": "\n",
          "output_type": "stream"
        },
        {
          "name": "stdout",
          "text": "\n      Epoch    GPU_mem   box_loss   cls_loss   dfl_loss  Instances       Size\n",
          "output_type": "stream"
        },
        {
          "name": "stderr",
          "text": "     26/100      14.4G      1.166      1.667      2.634         30        640: 100%|██████████| 12/12 [00:14<00:00,  1.18s/it]\n                 Class     Images  Instances      Box(P          R      mAP50  mAP50-95): 100%|██████████| 4/4 [00:01<00:00,  2.20it/s]",
          "output_type": "stream"
        },
        {
          "name": "stdout",
          "text": "                   all         52        240      0.481       0.28      0.214      0.124\n",
          "output_type": "stream"
        },
        {
          "name": "stderr",
          "text": "\n",
          "output_type": "stream"
        },
        {
          "name": "stdout",
          "text": "\n      Epoch    GPU_mem   box_loss   cls_loss   dfl_loss  Instances       Size\n",
          "output_type": "stream"
        },
        {
          "name": "stderr",
          "text": "     27/100      14.4G      1.204      1.651      2.642         31        640: 100%|██████████| 12/12 [00:14<00:00,  1.18s/it]\n                 Class     Images  Instances      Box(P          R      mAP50  mAP50-95): 100%|██████████| 4/4 [00:01<00:00,  2.22it/s]",
          "output_type": "stream"
        },
        {
          "name": "stdout",
          "text": "                   all         52        240       0.51      0.247      0.227      0.129\n",
          "output_type": "stream"
        },
        {
          "name": "stderr",
          "text": "\n",
          "output_type": "stream"
        },
        {
          "name": "stdout",
          "text": "\n      Epoch    GPU_mem   box_loss   cls_loss   dfl_loss  Instances       Size\n",
          "output_type": "stream"
        },
        {
          "name": "stderr",
          "text": "     28/100      14.4G      1.089      1.613      2.605         21        640: 100%|██████████| 12/12 [00:14<00:00,  1.18s/it]\n                 Class     Images  Instances      Box(P          R      mAP50  mAP50-95): 100%|██████████| 4/4 [00:01<00:00,  2.23it/s]",
          "output_type": "stream"
        },
        {
          "name": "stdout",
          "text": "                   all         52        240      0.545       0.17      0.203      0.125\n",
          "output_type": "stream"
        },
        {
          "name": "stderr",
          "text": "\n",
          "output_type": "stream"
        },
        {
          "name": "stdout",
          "text": "\n      Epoch    GPU_mem   box_loss   cls_loss   dfl_loss  Instances       Size\n",
          "output_type": "stream"
        },
        {
          "name": "stderr",
          "text": "     29/100      14.4G      1.078      1.535      2.586         19        640: 100%|██████████| 12/12 [00:14<00:00,  1.18s/it]\n                 Class     Images  Instances      Box(P          R      mAP50  mAP50-95): 100%|██████████| 4/4 [00:01<00:00,  2.18it/s]",
          "output_type": "stream"
        },
        {
          "name": "stdout",
          "text": "                   all         52        240      0.527      0.241      0.222      0.125\n",
          "output_type": "stream"
        },
        {
          "name": "stderr",
          "text": "\n",
          "output_type": "stream"
        },
        {
          "name": "stdout",
          "text": "\n      Epoch    GPU_mem   box_loss   cls_loss   dfl_loss  Instances       Size\n",
          "output_type": "stream"
        },
        {
          "name": "stderr",
          "text": "     30/100      14.4G      1.105      1.582      2.674         30        640: 100%|██████████| 12/12 [00:14<00:00,  1.18s/it]\n                 Class     Images  Instances      Box(P          R      mAP50  mAP50-95): 100%|██████████| 4/4 [00:01<00:00,  2.22it/s]",
          "output_type": "stream"
        },
        {
          "name": "stdout",
          "text": "                   all         52        240      0.468      0.256      0.222      0.126\n",
          "output_type": "stream"
        },
        {
          "name": "stderr",
          "text": "\n",
          "output_type": "stream"
        },
        {
          "name": "stdout",
          "text": "\n      Epoch    GPU_mem   box_loss   cls_loss   dfl_loss  Instances       Size\n",
          "output_type": "stream"
        },
        {
          "name": "stderr",
          "text": "     31/100      14.4G      1.143      1.571      2.667         26        640: 100%|██████████| 12/12 [00:14<00:00,  1.18s/it]\n                 Class     Images  Instances      Box(P          R      mAP50  mAP50-95): 100%|██████████| 4/4 [00:01<00:00,  2.21it/s]",
          "output_type": "stream"
        },
        {
          "name": "stdout",
          "text": "                   all         52        240      0.496      0.237       0.22      0.134\n",
          "output_type": "stream"
        },
        {
          "name": "stderr",
          "text": "\n",
          "output_type": "stream"
        },
        {
          "name": "stdout",
          "text": "\n      Epoch    GPU_mem   box_loss   cls_loss   dfl_loss  Instances       Size\n",
          "output_type": "stream"
        },
        {
          "name": "stderr",
          "text": "     32/100      14.4G      1.119      1.506      2.579         25        640: 100%|██████████| 12/12 [00:14<00:00,  1.18s/it]\n                 Class     Images  Instances      Box(P          R      mAP50  mAP50-95): 100%|██████████| 4/4 [00:01<00:00,  2.18it/s]",
          "output_type": "stream"
        },
        {
          "name": "stdout",
          "text": "                   all         52        240      0.549      0.219      0.228      0.131\n",
          "output_type": "stream"
        },
        {
          "name": "stderr",
          "text": "\n",
          "output_type": "stream"
        },
        {
          "name": "stdout",
          "text": "\n      Epoch    GPU_mem   box_loss   cls_loss   dfl_loss  Instances       Size\n",
          "output_type": "stream"
        },
        {
          "name": "stderr",
          "text": "     33/100      14.4G      1.031      1.422       2.61         24        640: 100%|██████████| 12/12 [00:14<00:00,  1.18s/it]\n                 Class     Images  Instances      Box(P          R      mAP50  mAP50-95): 100%|██████████| 4/4 [00:01<00:00,  2.24it/s]",
          "output_type": "stream"
        },
        {
          "name": "stdout",
          "text": "                   all         52        240      0.673      0.209      0.225      0.132\n",
          "output_type": "stream"
        },
        {
          "name": "stderr",
          "text": "\n",
          "output_type": "stream"
        },
        {
          "name": "stdout",
          "text": "\n      Epoch    GPU_mem   box_loss   cls_loss   dfl_loss  Instances       Size\n",
          "output_type": "stream"
        },
        {
          "name": "stderr",
          "text": "     34/100      14.4G      1.025      1.331      2.582         30        640: 100%|██████████| 12/12 [00:14<00:00,  1.18s/it]\n                 Class     Images  Instances      Box(P          R      mAP50  mAP50-95): 100%|██████████| 4/4 [00:01<00:00,  2.25it/s]",
          "output_type": "stream"
        },
        {
          "name": "stdout",
          "text": "                   all         52        240      0.557      0.192      0.211      0.125\n",
          "output_type": "stream"
        },
        {
          "name": "stderr",
          "text": "\n",
          "output_type": "stream"
        },
        {
          "name": "stdout",
          "text": "\n      Epoch    GPU_mem   box_loss   cls_loss   dfl_loss  Instances       Size\n",
          "output_type": "stream"
        },
        {
          "name": "stderr",
          "text": "     35/100      14.4G       1.06      1.367      2.562         22        640: 100%|██████████| 12/12 [00:14<00:00,  1.18s/it]\n                 Class     Images  Instances      Box(P          R      mAP50  mAP50-95): 100%|██████████| 4/4 [00:01<00:00,  2.27it/s]",
          "output_type": "stream"
        },
        {
          "name": "stdout",
          "text": "                   all         52        240      0.609      0.175        0.2       0.12\n",
          "output_type": "stream"
        },
        {
          "name": "stderr",
          "text": "\n",
          "output_type": "stream"
        },
        {
          "name": "stdout",
          "text": "\n      Epoch    GPU_mem   box_loss   cls_loss   dfl_loss  Instances       Size\n",
          "output_type": "stream"
        },
        {
          "name": "stderr",
          "text": "     36/100      14.4G      1.065      1.349      2.593         17        640: 100%|██████████| 12/12 [00:14<00:00,  1.18s/it]\n                 Class     Images  Instances      Box(P          R      mAP50  mAP50-95): 100%|██████████| 4/4 [00:01<00:00,  2.25it/s]",
          "output_type": "stream"
        },
        {
          "name": "stdout",
          "text": "                   all         52        240      0.614      0.207      0.206      0.122\n",
          "output_type": "stream"
        },
        {
          "name": "stderr",
          "text": "\n",
          "output_type": "stream"
        },
        {
          "name": "stdout",
          "text": "\n      Epoch    GPU_mem   box_loss   cls_loss   dfl_loss  Instances       Size\n",
          "output_type": "stream"
        },
        {
          "name": "stderr",
          "text": "     37/100      14.4G      1.025      1.359      2.493         33        640: 100%|██████████| 12/12 [00:14<00:00,  1.18s/it]\n                 Class     Images  Instances      Box(P          R      mAP50  mAP50-95): 100%|██████████| 4/4 [00:01<00:00,  2.25it/s]",
          "output_type": "stream"
        },
        {
          "name": "stdout",
          "text": "                   all         52        240      0.617      0.217      0.208      0.123\n",
          "output_type": "stream"
        },
        {
          "name": "stderr",
          "text": "\n",
          "output_type": "stream"
        },
        {
          "name": "stdout",
          "text": "\n      Epoch    GPU_mem   box_loss   cls_loss   dfl_loss  Instances       Size\n",
          "output_type": "stream"
        },
        {
          "name": "stderr",
          "text": "     38/100      14.4G     0.9901      1.249      2.462         23        640: 100%|██████████| 12/12 [00:14<00:00,  1.18s/it]\n                 Class     Images  Instances      Box(P          R      mAP50  mAP50-95): 100%|██████████| 4/4 [00:01<00:00,  2.24it/s]",
          "output_type": "stream"
        },
        {
          "name": "stdout",
          "text": "                   all         52        240      0.548      0.226      0.225       0.14\n",
          "output_type": "stream"
        },
        {
          "name": "stderr",
          "text": "\n",
          "output_type": "stream"
        },
        {
          "name": "stdout",
          "text": "\n      Epoch    GPU_mem   box_loss   cls_loss   dfl_loss  Instances       Size\n",
          "output_type": "stream"
        },
        {
          "name": "stderr",
          "text": "     39/100      14.4G     0.9806      1.288      2.456         21        640: 100%|██████████| 12/12 [00:14<00:00,  1.18s/it]\n                 Class     Images  Instances      Box(P          R      mAP50  mAP50-95): 100%|██████████| 4/4 [00:01<00:00,  2.25it/s]",
          "output_type": "stream"
        },
        {
          "name": "stdout",
          "text": "                   all         52        240      0.369       0.26      0.228      0.131\n",
          "output_type": "stream"
        },
        {
          "name": "stderr",
          "text": "\n",
          "output_type": "stream"
        },
        {
          "name": "stdout",
          "text": "\n      Epoch    GPU_mem   box_loss   cls_loss   dfl_loss  Instances       Size\n",
          "output_type": "stream"
        },
        {
          "name": "stderr",
          "text": "     40/100      14.4G      1.002      1.267      2.564         22        640: 100%|██████████| 12/12 [00:14<00:00,  1.18s/it]\n                 Class     Images  Instances      Box(P          R      mAP50  mAP50-95): 100%|██████████| 4/4 [00:01<00:00,  2.26it/s]",
          "output_type": "stream"
        },
        {
          "name": "stdout",
          "text": "                   all         52        240      0.489      0.252       0.22      0.132\n",
          "output_type": "stream"
        },
        {
          "name": "stderr",
          "text": "\n",
          "output_type": "stream"
        },
        {
          "name": "stdout",
          "text": "\n      Epoch    GPU_mem   box_loss   cls_loss   dfl_loss  Instances       Size\n",
          "output_type": "stream"
        },
        {
          "name": "stderr",
          "text": "     41/100      14.4G     0.9469      1.166      2.439         16        640: 100%|██████████| 12/12 [00:14<00:00,  1.18s/it]\n                 Class     Images  Instances      Box(P          R      mAP50  mAP50-95): 100%|██████████| 4/4 [00:01<00:00,  2.30it/s]",
          "output_type": "stream"
        },
        {
          "name": "stdout",
          "text": "                   all         52        240       0.47      0.239      0.222      0.135\n",
          "output_type": "stream"
        },
        {
          "name": "stderr",
          "text": "\n",
          "output_type": "stream"
        },
        {
          "name": "stdout",
          "text": "\n      Epoch    GPU_mem   box_loss   cls_loss   dfl_loss  Instances       Size\n",
          "output_type": "stream"
        },
        {
          "name": "stderr",
          "text": "     42/100      14.4G     0.9616      1.189      2.448         36        640: 100%|██████████| 12/12 [00:14<00:00,  1.18s/it]\n                 Class     Images  Instances      Box(P          R      mAP50  mAP50-95): 100%|██████████| 4/4 [00:01<00:00,  2.27it/s]",
          "output_type": "stream"
        },
        {
          "name": "stdout",
          "text": "                   all         52        240       0.49      0.232      0.219       0.14\n",
          "output_type": "stream"
        },
        {
          "name": "stderr",
          "text": "\n",
          "output_type": "stream"
        },
        {
          "name": "stdout",
          "text": "\n      Epoch    GPU_mem   box_loss   cls_loss   dfl_loss  Instances       Size\n",
          "output_type": "stream"
        },
        {
          "name": "stderr",
          "text": "     43/100      14.4G     0.9585      1.215      2.489         20        640: 100%|██████████| 12/12 [00:14<00:00,  1.18s/it]\n                 Class     Images  Instances      Box(P          R      mAP50  mAP50-95): 100%|██████████| 4/4 [00:01<00:00,  2.26it/s]",
          "output_type": "stream"
        },
        {
          "name": "stdout",
          "text": "                   all         52        240      0.559      0.236      0.213      0.131\n",
          "output_type": "stream"
        },
        {
          "name": "stderr",
          "text": "\n",
          "output_type": "stream"
        },
        {
          "name": "stdout",
          "text": "\n      Epoch    GPU_mem   box_loss   cls_loss   dfl_loss  Instances       Size\n",
          "output_type": "stream"
        },
        {
          "name": "stderr",
          "text": "     44/100      14.4G     0.9223      1.103      2.435         19        640: 100%|██████████| 12/12 [00:14<00:00,  1.18s/it]\n                 Class     Images  Instances      Box(P          R      mAP50  mAP50-95): 100%|██████████| 4/4 [00:01<00:00,  2.27it/s]",
          "output_type": "stream"
        },
        {
          "name": "stdout",
          "text": "                   all         52        240      0.555      0.252      0.249      0.156\n",
          "output_type": "stream"
        },
        {
          "name": "stderr",
          "text": "\n",
          "output_type": "stream"
        },
        {
          "name": "stdout",
          "text": "\n      Epoch    GPU_mem   box_loss   cls_loss   dfl_loss  Instances       Size\n",
          "output_type": "stream"
        },
        {
          "name": "stderr",
          "text": "     45/100      14.4G      0.931      1.148      2.429         22        640: 100%|██████████| 12/12 [00:14<00:00,  1.18s/it]\n                 Class     Images  Instances      Box(P          R      mAP50  mAP50-95): 100%|██████████| 4/4 [00:01<00:00,  2.25it/s]",
          "output_type": "stream"
        },
        {
          "name": "stdout",
          "text": "                   all         52        240      0.609      0.221      0.228      0.139\n",
          "output_type": "stream"
        },
        {
          "name": "stderr",
          "text": "\n",
          "output_type": "stream"
        },
        {
          "name": "stdout",
          "text": "\n      Epoch    GPU_mem   box_loss   cls_loss   dfl_loss  Instances       Size\n",
          "output_type": "stream"
        },
        {
          "name": "stderr",
          "text": "     46/100      14.4G     0.9358      1.166      2.483         13        640: 100%|██████████| 12/12 [00:14<00:00,  1.18s/it]\n                 Class     Images  Instances      Box(P          R      mAP50  mAP50-95): 100%|██████████| 4/4 [00:01<00:00,  2.26it/s]",
          "output_type": "stream"
        },
        {
          "name": "stdout",
          "text": "                   all         52        240      0.601      0.243      0.253      0.153\n",
          "output_type": "stream"
        },
        {
          "name": "stderr",
          "text": "\n",
          "output_type": "stream"
        },
        {
          "name": "stdout",
          "text": "\n      Epoch    GPU_mem   box_loss   cls_loss   dfl_loss  Instances       Size\n",
          "output_type": "stream"
        },
        {
          "name": "stderr",
          "text": "     47/100      14.4G     0.9393      1.141       2.51         29        640: 100%|██████████| 12/12 [00:14<00:00,  1.18s/it]\n                 Class     Images  Instances      Box(P          R      mAP50  mAP50-95): 100%|██████████| 4/4 [00:01<00:00,  2.28it/s]",
          "output_type": "stream"
        },
        {
          "name": "stdout",
          "text": "                   all         52        240      0.652      0.232      0.253      0.159\n",
          "output_type": "stream"
        },
        {
          "name": "stderr",
          "text": "\n",
          "output_type": "stream"
        },
        {
          "name": "stdout",
          "text": "\n      Epoch    GPU_mem   box_loss   cls_loss   dfl_loss  Instances       Size\n",
          "output_type": "stream"
        },
        {
          "name": "stderr",
          "text": "     48/100      14.4G      0.914      1.166       2.45         16        640: 100%|██████████| 12/12 [00:14<00:00,  1.18s/it]\n                 Class     Images  Instances      Box(P          R      mAP50  mAP50-95): 100%|██████████| 4/4 [00:01<00:00,  2.30it/s]",
          "output_type": "stream"
        },
        {
          "name": "stdout",
          "text": "                   all         52        240      0.618       0.23      0.219      0.135\n",
          "output_type": "stream"
        },
        {
          "name": "stderr",
          "text": "\n",
          "output_type": "stream"
        },
        {
          "name": "stdout",
          "text": "\n      Epoch    GPU_mem   box_loss   cls_loss   dfl_loss  Instances       Size\n",
          "output_type": "stream"
        },
        {
          "name": "stderr",
          "text": "     49/100      14.4G     0.9189      1.153      2.396         13        640: 100%|██████████| 12/12 [00:14<00:00,  1.18s/it]\n                 Class     Images  Instances      Box(P          R      mAP50  mAP50-95): 100%|██████████| 4/4 [00:01<00:00,  2.30it/s]",
          "output_type": "stream"
        },
        {
          "name": "stdout",
          "text": "                   all         52        240      0.663      0.224      0.218       0.13\n",
          "output_type": "stream"
        },
        {
          "name": "stderr",
          "text": "\n",
          "output_type": "stream"
        },
        {
          "name": "stdout",
          "text": "\n      Epoch    GPU_mem   box_loss   cls_loss   dfl_loss  Instances       Size\n",
          "output_type": "stream"
        },
        {
          "name": "stderr",
          "text": "     50/100      14.4G     0.8602      1.068       2.33         19        640: 100%|██████████| 12/12 [00:14<00:00,  1.18s/it]\n                 Class     Images  Instances      Box(P          R      mAP50  mAP50-95): 100%|██████████| 4/4 [00:01<00:00,  2.28it/s]",
          "output_type": "stream"
        },
        {
          "name": "stdout",
          "text": "                   all         52        240      0.588       0.23      0.207      0.124\n",
          "output_type": "stream"
        },
        {
          "name": "stderr",
          "text": "\n",
          "output_type": "stream"
        },
        {
          "name": "stdout",
          "text": "\n      Epoch    GPU_mem   box_loss   cls_loss   dfl_loss  Instances       Size\n",
          "output_type": "stream"
        },
        {
          "name": "stderr",
          "text": "     51/100      14.4G     0.8948      1.117      2.428         24        640: 100%|██████████| 12/12 [00:14<00:00,  1.18s/it]\n                 Class     Images  Instances      Box(P          R      mAP50  mAP50-95): 100%|██████████| 4/4 [00:01<00:00,  2.25it/s]",
          "output_type": "stream"
        },
        {
          "name": "stdout",
          "text": "                   all         52        240      0.581      0.231      0.224      0.131\n",
          "output_type": "stream"
        },
        {
          "name": "stderr",
          "text": "\n",
          "output_type": "stream"
        },
        {
          "name": "stdout",
          "text": "\n      Epoch    GPU_mem   box_loss   cls_loss   dfl_loss  Instances       Size\n",
          "output_type": "stream"
        },
        {
          "name": "stderr",
          "text": "     52/100      14.4G     0.9125      1.091      2.477         19        640: 100%|██████████| 12/12 [00:14<00:00,  1.18s/it]\n                 Class     Images  Instances      Box(P          R      mAP50  mAP50-95): 100%|██████████| 4/4 [00:01<00:00,  2.29it/s]",
          "output_type": "stream"
        },
        {
          "name": "stdout",
          "text": "                   all         52        240      0.582      0.221      0.208      0.129\n",
          "output_type": "stream"
        },
        {
          "name": "stderr",
          "text": "\n",
          "output_type": "stream"
        },
        {
          "name": "stdout",
          "text": "\n      Epoch    GPU_mem   box_loss   cls_loss   dfl_loss  Instances       Size\n",
          "output_type": "stream"
        },
        {
          "name": "stderr",
          "text": "     53/100      14.4G     0.8979      1.069      2.393         19        640: 100%|██████████| 12/12 [00:14<00:00,  1.18s/it]\n                 Class     Images  Instances      Box(P          R      mAP50  mAP50-95): 100%|██████████| 4/4 [00:01<00:00,  2.28it/s]",
          "output_type": "stream"
        },
        {
          "name": "stdout",
          "text": "                   all         52        240      0.472      0.246      0.196      0.122\n",
          "output_type": "stream"
        },
        {
          "name": "stderr",
          "text": "\n",
          "output_type": "stream"
        },
        {
          "name": "stdout",
          "text": "\n      Epoch    GPU_mem   box_loss   cls_loss   dfl_loss  Instances       Size\n",
          "output_type": "stream"
        },
        {
          "name": "stderr",
          "text": "     54/100      14.4G     0.8578      1.018      2.382         16        640: 100%|██████████| 12/12 [00:14<00:00,  1.18s/it]\n                 Class     Images  Instances      Box(P          R      mAP50  mAP50-95): 100%|██████████| 4/4 [00:01<00:00,  2.27it/s]",
          "output_type": "stream"
        },
        {
          "name": "stdout",
          "text": "                   all         52        240      0.603      0.211      0.197      0.123\n",
          "output_type": "stream"
        },
        {
          "name": "stderr",
          "text": "\n",
          "output_type": "stream"
        },
        {
          "name": "stdout",
          "text": "\n      Epoch    GPU_mem   box_loss   cls_loss   dfl_loss  Instances       Size\n",
          "output_type": "stream"
        },
        {
          "name": "stderr",
          "text": "     55/100      14.4G      0.855      1.033      2.305         14        640: 100%|██████████| 12/12 [00:14<00:00,  1.18s/it]\n                 Class     Images  Instances      Box(P          R      mAP50  mAP50-95): 100%|██████████| 4/4 [00:01<00:00,  2.28it/s]",
          "output_type": "stream"
        },
        {
          "name": "stdout",
          "text": "                   all         52        240      0.493      0.266      0.208      0.124\n",
          "output_type": "stream"
        },
        {
          "name": "stderr",
          "text": "\n",
          "output_type": "stream"
        },
        {
          "name": "stdout",
          "text": "\n      Epoch    GPU_mem   box_loss   cls_loss   dfl_loss  Instances       Size\n",
          "output_type": "stream"
        },
        {
          "name": "stderr",
          "text": "     56/100      14.4G     0.8301     0.9779      2.424         33        640: 100%|██████████| 12/12 [00:14<00:00,  1.18s/it]\n                 Class     Images  Instances      Box(P          R      mAP50  mAP50-95): 100%|██████████| 4/4 [00:01<00:00,  2.25it/s]",
          "output_type": "stream"
        },
        {
          "name": "stdout",
          "text": "                   all         52        240      0.533      0.249      0.214       0.13\n",
          "output_type": "stream"
        },
        {
          "name": "stderr",
          "text": "\n",
          "output_type": "stream"
        },
        {
          "name": "stdout",
          "text": "\n      Epoch    GPU_mem   box_loss   cls_loss   dfl_loss  Instances       Size\n",
          "output_type": "stream"
        },
        {
          "name": "stderr",
          "text": "     57/100      14.4G     0.8751       1.04       2.38         41        640: 100%|██████████| 12/12 [00:14<00:00,  1.18s/it]\n                 Class     Images  Instances      Box(P          R      mAP50  mAP50-95): 100%|██████████| 4/4 [00:01<00:00,  2.27it/s]",
          "output_type": "stream"
        },
        {
          "name": "stdout",
          "text": "                   all         52        240      0.476      0.246      0.215      0.131\n",
          "output_type": "stream"
        },
        {
          "name": "stderr",
          "text": "\n",
          "output_type": "stream"
        },
        {
          "name": "stdout",
          "text": "\n      Epoch    GPU_mem   box_loss   cls_loss   dfl_loss  Instances       Size\n",
          "output_type": "stream"
        },
        {
          "name": "stderr",
          "text": "     58/100      14.4G     0.8945       1.04       2.38         36        640: 100%|██████████| 12/12 [00:14<00:00,  1.18s/it]\n                 Class     Images  Instances      Box(P          R      mAP50  mAP50-95): 100%|██████████| 4/4 [00:01<00:00,  2.28it/s]",
          "output_type": "stream"
        },
        {
          "name": "stdout",
          "text": "                   all         52        240      0.539      0.241      0.217      0.135\n",
          "output_type": "stream"
        },
        {
          "name": "stderr",
          "text": "\n",
          "output_type": "stream"
        },
        {
          "name": "stdout",
          "text": "\n      Epoch    GPU_mem   box_loss   cls_loss   dfl_loss  Instances       Size\n",
          "output_type": "stream"
        },
        {
          "name": "stderr",
          "text": "     59/100      14.4G     0.8192     0.9416      2.304         19        640: 100%|██████████| 12/12 [00:14<00:00,  1.18s/it]\n                 Class     Images  Instances      Box(P          R      mAP50  mAP50-95): 100%|██████████| 4/4 [00:01<00:00,  2.28it/s]",
          "output_type": "stream"
        },
        {
          "name": "stdout",
          "text": "                   all         52        240      0.621      0.215      0.224      0.139\n",
          "output_type": "stream"
        },
        {
          "name": "stderr",
          "text": "\n",
          "output_type": "stream"
        },
        {
          "name": "stdout",
          "text": "\n      Epoch    GPU_mem   box_loss   cls_loss   dfl_loss  Instances       Size\n",
          "output_type": "stream"
        },
        {
          "name": "stderr",
          "text": "     60/100      14.4G     0.8365     0.9649      2.329         36        640: 100%|██████████| 12/12 [00:14<00:00,  1.18s/it]\n                 Class     Images  Instances      Box(P          R      mAP50  mAP50-95): 100%|██████████| 4/4 [00:01<00:00,  2.27it/s]",
          "output_type": "stream"
        },
        {
          "name": "stdout",
          "text": "                   all         52        240      0.484      0.276       0.23      0.138\n",
          "output_type": "stream"
        },
        {
          "name": "stderr",
          "text": "\n",
          "output_type": "stream"
        },
        {
          "name": "stdout",
          "text": "\n      Epoch    GPU_mem   box_loss   cls_loss   dfl_loss  Instances       Size\n",
          "output_type": "stream"
        },
        {
          "name": "stderr",
          "text": "     61/100      14.4G     0.8247      0.975      2.354         15        640: 100%|██████████| 12/12 [00:14<00:00,  1.18s/it]\n                 Class     Images  Instances      Box(P          R      mAP50  mAP50-95): 100%|██████████| 4/4 [00:01<00:00,  2.28it/s]",
          "output_type": "stream"
        },
        {
          "name": "stdout",
          "text": "                   all         52        240      0.501      0.276      0.231      0.143\n",
          "output_type": "stream"
        },
        {
          "name": "stderr",
          "text": "\n",
          "output_type": "stream"
        },
        {
          "name": "stdout",
          "text": "\n      Epoch    GPU_mem   box_loss   cls_loss   dfl_loss  Instances       Size\n",
          "output_type": "stream"
        },
        {
          "name": "stderr",
          "text": "     62/100      14.4G      0.833     0.9794       2.43         45        640: 100%|██████████| 12/12 [00:14<00:00,  1.18s/it]\n                 Class     Images  Instances      Box(P          R      mAP50  mAP50-95): 100%|██████████| 4/4 [00:01<00:00,  2.30it/s]",
          "output_type": "stream"
        },
        {
          "name": "stdout",
          "text": "                   all         52        240      0.526      0.254      0.238      0.143\n",
          "output_type": "stream"
        },
        {
          "name": "stderr",
          "text": "\n",
          "output_type": "stream"
        },
        {
          "name": "stdout",
          "text": "\n      Epoch    GPU_mem   box_loss   cls_loss   dfl_loss  Instances       Size\n",
          "output_type": "stream"
        },
        {
          "name": "stderr",
          "text": "     63/100      14.4G     0.7855     0.9195      2.306         27        640: 100%|██████████| 12/12 [00:14<00:00,  1.18s/it]\n                 Class     Images  Instances      Box(P          R      mAP50  mAP50-95): 100%|██████████| 4/4 [00:01<00:00,  2.28it/s]",
          "output_type": "stream"
        },
        {
          "name": "stdout",
          "text": "                   all         52        240      0.626      0.271      0.259      0.151\n",
          "output_type": "stream"
        },
        {
          "name": "stderr",
          "text": "\n",
          "output_type": "stream"
        },
        {
          "name": "stdout",
          "text": "\n      Epoch    GPU_mem   box_loss   cls_loss   dfl_loss  Instances       Size\n",
          "output_type": "stream"
        },
        {
          "name": "stderr",
          "text": "     64/100      14.4G     0.8469     0.9861      2.359         32        640: 100%|██████████| 12/12 [00:14<00:00,  1.18s/it]\n                 Class     Images  Instances      Box(P          R      mAP50  mAP50-95): 100%|██████████| 4/4 [00:01<00:00,  2.27it/s]",
          "output_type": "stream"
        },
        {
          "name": "stdout",
          "text": "                   all         52        240      0.665      0.239      0.271      0.152\n",
          "output_type": "stream"
        },
        {
          "name": "stderr",
          "text": "\n",
          "output_type": "stream"
        },
        {
          "name": "stdout",
          "text": "\n      Epoch    GPU_mem   box_loss   cls_loss   dfl_loss  Instances       Size\n",
          "output_type": "stream"
        },
        {
          "name": "stderr",
          "text": "     65/100      14.4G     0.7947     0.9244      2.351         19        640: 100%|██████████| 12/12 [00:14<00:00,  1.18s/it]\n                 Class     Images  Instances      Box(P          R      mAP50  mAP50-95): 100%|██████████| 4/4 [00:01<00:00,  2.26it/s]",
          "output_type": "stream"
        },
        {
          "name": "stdout",
          "text": "                   all         52        240       0.59      0.252      0.243      0.148\n",
          "output_type": "stream"
        },
        {
          "name": "stderr",
          "text": "\n",
          "output_type": "stream"
        },
        {
          "name": "stdout",
          "text": "\n      Epoch    GPU_mem   box_loss   cls_loss   dfl_loss  Instances       Size\n",
          "output_type": "stream"
        },
        {
          "name": "stderr",
          "text": "     66/100      14.4G     0.8687      1.044      2.417         19        640: 100%|██████████| 12/12 [00:14<00:00,  1.18s/it]\n                 Class     Images  Instances      Box(P          R      mAP50  mAP50-95): 100%|██████████| 4/4 [00:01<00:00,  2.29it/s]",
          "output_type": "stream"
        },
        {
          "name": "stdout",
          "text": "                   all         52        240       0.66      0.228      0.231      0.143\n",
          "output_type": "stream"
        },
        {
          "name": "stderr",
          "text": "\n",
          "output_type": "stream"
        },
        {
          "name": "stdout",
          "text": "\n      Epoch    GPU_mem   box_loss   cls_loss   dfl_loss  Instances       Size\n",
          "output_type": "stream"
        },
        {
          "name": "stderr",
          "text": "     67/100      14.4G     0.7598     0.9163      2.299         20        640: 100%|██████████| 12/12 [00:14<00:00,  1.18s/it]\n                 Class     Images  Instances      Box(P          R      mAP50  mAP50-95): 100%|██████████| 4/4 [00:01<00:00,  2.29it/s]",
          "output_type": "stream"
        },
        {
          "name": "stdout",
          "text": "                   all         52        240      0.515      0.267       0.23      0.141\n",
          "output_type": "stream"
        },
        {
          "name": "stderr",
          "text": "\n",
          "output_type": "stream"
        },
        {
          "name": "stdout",
          "text": "\n      Epoch    GPU_mem   box_loss   cls_loss   dfl_loss  Instances       Size\n",
          "output_type": "stream"
        },
        {
          "name": "stderr",
          "text": "     68/100      14.4G     0.8101     0.9382       2.26         19        640: 100%|██████████| 12/12 [00:14<00:00,  1.18s/it]\n                 Class     Images  Instances      Box(P          R      mAP50  mAP50-95): 100%|██████████| 4/4 [00:01<00:00,  2.27it/s]",
          "output_type": "stream"
        },
        {
          "name": "stdout",
          "text": "                   all         52        240      0.491      0.256      0.238      0.142\n",
          "output_type": "stream"
        },
        {
          "name": "stderr",
          "text": "\n",
          "output_type": "stream"
        },
        {
          "name": "stdout",
          "text": "\n      Epoch    GPU_mem   box_loss   cls_loss   dfl_loss  Instances       Size\n",
          "output_type": "stream"
        },
        {
          "name": "stderr",
          "text": "     69/100      14.4G     0.7913     0.9108      2.238         40        640: 100%|██████████| 12/12 [00:14<00:00,  1.18s/it]\n                 Class     Images  Instances      Box(P          R      mAP50  mAP50-95): 100%|██████████| 4/4 [00:01<00:00,  2.25it/s]",
          "output_type": "stream"
        },
        {
          "name": "stdout",
          "text": "                   all         52        240      0.699      0.222       0.23      0.144\n",
          "output_type": "stream"
        },
        {
          "name": "stderr",
          "text": "\n",
          "output_type": "stream"
        },
        {
          "name": "stdout",
          "text": "\n      Epoch    GPU_mem   box_loss   cls_loss   dfl_loss  Instances       Size\n",
          "output_type": "stream"
        },
        {
          "name": "stderr",
          "text": "     70/100      14.4G     0.7582     0.8763      2.212         25        640: 100%|██████████| 12/12 [00:14<00:00,  1.18s/it]\n                 Class     Images  Instances      Box(P          R      mAP50  mAP50-95): 100%|██████████| 4/4 [00:01<00:00,  2.26it/s]",
          "output_type": "stream"
        },
        {
          "name": "stdout",
          "text": "                   all         52        240      0.575      0.246      0.227      0.146\n",
          "output_type": "stream"
        },
        {
          "name": "stderr",
          "text": "\n",
          "output_type": "stream"
        },
        {
          "name": "stdout",
          "text": "\n      Epoch    GPU_mem   box_loss   cls_loss   dfl_loss  Instances       Size\n",
          "output_type": "stream"
        },
        {
          "name": "stderr",
          "text": "     71/100      14.4G     0.8149      1.007      2.357         21        640: 100%|██████████| 12/12 [00:14<00:00,  1.18s/it]\n                 Class     Images  Instances      Box(P          R      mAP50  mAP50-95): 100%|██████████| 4/4 [00:01<00:00,  2.29it/s]",
          "output_type": "stream"
        },
        {
          "name": "stdout",
          "text": "                   all         52        240      0.747      0.178      0.214      0.142\n",
          "output_type": "stream"
        },
        {
          "name": "stderr",
          "text": "\n",
          "output_type": "stream"
        },
        {
          "name": "stdout",
          "text": "\n      Epoch    GPU_mem   box_loss   cls_loss   dfl_loss  Instances       Size\n",
          "output_type": "stream"
        },
        {
          "name": "stderr",
          "text": "     72/100      14.4G      0.786     0.9341      2.309         23        640: 100%|██████████| 12/12 [00:14<00:00,  1.18s/it]\n                 Class     Images  Instances      Box(P          R      mAP50  mAP50-95): 100%|██████████| 4/4 [00:01<00:00,  2.29it/s]",
          "output_type": "stream"
        },
        {
          "name": "stdout",
          "text": "                   all         52        240      0.647      0.216      0.211      0.141\n",
          "output_type": "stream"
        },
        {
          "name": "stderr",
          "text": "\n",
          "output_type": "stream"
        },
        {
          "name": "stdout",
          "text": "\n      Epoch    GPU_mem   box_loss   cls_loss   dfl_loss  Instances       Size\n",
          "output_type": "stream"
        },
        {
          "name": "stderr",
          "text": "     73/100      14.4G     0.7836     0.9498      2.391         33        640: 100%|██████████| 12/12 [00:14<00:00,  1.18s/it]\n                 Class     Images  Instances      Box(P          R      mAP50  mAP50-95): 100%|██████████| 4/4 [00:01<00:00,  2.21it/s]",
          "output_type": "stream"
        },
        {
          "name": "stdout",
          "text": "                   all         52        240       0.72      0.206      0.227      0.148\n",
          "output_type": "stream"
        },
        {
          "name": "stderr",
          "text": "\n",
          "output_type": "stream"
        },
        {
          "name": "stdout",
          "text": "\n      Epoch    GPU_mem   box_loss   cls_loss   dfl_loss  Instances       Size\n",
          "output_type": "stream"
        },
        {
          "name": "stderr",
          "text": "     74/100      14.4G     0.7315     0.8466      2.248         21        640: 100%|██████████| 12/12 [00:14<00:00,  1.18s/it]\n                 Class     Images  Instances      Box(P          R      mAP50  mAP50-95): 100%|██████████| 4/4 [00:01<00:00,  2.28it/s]",
          "output_type": "stream"
        },
        {
          "name": "stdout",
          "text": "                   all         52        240      0.726      0.208      0.232      0.147\n",
          "output_type": "stream"
        },
        {
          "name": "stderr",
          "text": "\n",
          "output_type": "stream"
        },
        {
          "name": "stdout",
          "text": "\n      Epoch    GPU_mem   box_loss   cls_loss   dfl_loss  Instances       Size\n",
          "output_type": "stream"
        },
        {
          "name": "stderr",
          "text": "     75/100      14.4G     0.6992        0.8      2.243         39        640: 100%|██████████| 12/12 [00:14<00:00,  1.18s/it]\n                 Class     Images  Instances      Box(P          R      mAP50  mAP50-95): 100%|██████████| 4/4 [00:01<00:00,  2.24it/s]",
          "output_type": "stream"
        },
        {
          "name": "stdout",
          "text": "                   all         52        240      0.735      0.215      0.239      0.152\n",
          "output_type": "stream"
        },
        {
          "name": "stderr",
          "text": "\n",
          "output_type": "stream"
        },
        {
          "name": "stdout",
          "text": "\n      Epoch    GPU_mem   box_loss   cls_loss   dfl_loss  Instances       Size\n",
          "output_type": "stream"
        },
        {
          "name": "stderr",
          "text": "     76/100      14.4G     0.7349     0.8217      2.182         20        640: 100%|██████████| 12/12 [00:14<00:00,  1.18s/it]\n                 Class     Images  Instances      Box(P          R      mAP50  mAP50-95): 100%|██████████| 4/4 [00:01<00:00,  2.28it/s]",
          "output_type": "stream"
        },
        {
          "name": "stdout",
          "text": "                   all         52        240      0.744      0.215      0.236      0.154\n",
          "output_type": "stream"
        },
        {
          "name": "stderr",
          "text": "\n",
          "output_type": "stream"
        },
        {
          "name": "stdout",
          "text": "\n      Epoch    GPU_mem   box_loss   cls_loss   dfl_loss  Instances       Size\n",
          "output_type": "stream"
        },
        {
          "name": "stderr",
          "text": "     77/100      14.4G     0.7877      0.918      2.324         37        640: 100%|██████████| 12/12 [00:14<00:00,  1.18s/it]\n                 Class     Images  Instances      Box(P          R      mAP50  mAP50-95): 100%|██████████| 4/4 [00:01<00:00,  2.28it/s]",
          "output_type": "stream"
        },
        {
          "name": "stdout",
          "text": "                   all         52        240      0.621      0.247      0.241      0.157\n",
          "output_type": "stream"
        },
        {
          "name": "stderr",
          "text": "\n",
          "output_type": "stream"
        },
        {
          "name": "stdout",
          "text": "\n      Epoch    GPU_mem   box_loss   cls_loss   dfl_loss  Instances       Size\n",
          "output_type": "stream"
        },
        {
          "name": "stderr",
          "text": "     78/100      14.4G     0.7449      0.858      2.282         45        640: 100%|██████████| 12/12 [00:14<00:00,  1.18s/it]\n                 Class     Images  Instances      Box(P          R      mAP50  mAP50-95): 100%|██████████| 4/4 [00:01<00:00,  2.28it/s]",
          "output_type": "stream"
        },
        {
          "name": "stdout",
          "text": "                   all         52        240      0.724      0.196      0.229      0.152\n",
          "output_type": "stream"
        },
        {
          "name": "stderr",
          "text": "\n",
          "output_type": "stream"
        },
        {
          "name": "stdout",
          "text": "\n      Epoch    GPU_mem   box_loss   cls_loss   dfl_loss  Instances       Size\n",
          "output_type": "stream"
        },
        {
          "name": "stderr",
          "text": "     79/100      14.4G     0.7868     0.8903      2.338         15        640: 100%|██████████| 12/12 [00:14<00:00,  1.18s/it]\n                 Class     Images  Instances      Box(P          R      mAP50  mAP50-95): 100%|██████████| 4/4 [00:01<00:00,  2.27it/s]",
          "output_type": "stream"
        },
        {
          "name": "stdout",
          "text": "                   all         52        240      0.665      0.204      0.212      0.144\n",
          "output_type": "stream"
        },
        {
          "name": "stderr",
          "text": "\n",
          "output_type": "stream"
        },
        {
          "name": "stdout",
          "text": "\n      Epoch    GPU_mem   box_loss   cls_loss   dfl_loss  Instances       Size\n",
          "output_type": "stream"
        },
        {
          "name": "stderr",
          "text": "     80/100      14.4G     0.7222     0.8422      2.236         23        640: 100%|██████████| 12/12 [00:14<00:00,  1.18s/it]\n                 Class     Images  Instances      Box(P          R      mAP50  mAP50-95): 100%|██████████| 4/4 [00:01<00:00,  2.27it/s]",
          "output_type": "stream"
        },
        {
          "name": "stdout",
          "text": "                   all         52        240      0.735      0.182      0.205       0.14\n",
          "output_type": "stream"
        },
        {
          "name": "stderr",
          "text": "\n",
          "output_type": "stream"
        },
        {
          "name": "stdout",
          "text": "\n      Epoch    GPU_mem   box_loss   cls_loss   dfl_loss  Instances       Size\n",
          "output_type": "stream"
        },
        {
          "name": "stderr",
          "text": "     81/100      14.4G     0.7078     0.8356      2.213         44        640: 100%|██████████| 12/12 [00:14<00:00,  1.18s/it]\n                 Class     Images  Instances      Box(P          R      mAP50  mAP50-95): 100%|██████████| 4/4 [00:01<00:00,  2.28it/s]",
          "output_type": "stream"
        },
        {
          "name": "stdout",
          "text": "                   all         52        240      0.503      0.242      0.219      0.146\n",
          "output_type": "stream"
        },
        {
          "name": "stderr",
          "text": "\n",
          "output_type": "stream"
        },
        {
          "name": "stdout",
          "text": "\n      Epoch    GPU_mem   box_loss   cls_loss   dfl_loss  Instances       Size\n",
          "output_type": "stream"
        },
        {
          "name": "stderr",
          "text": "     82/100      14.4G      0.728     0.8494      2.269         31        640: 100%|██████████| 12/12 [00:14<00:00,  1.18s/it]\n                 Class     Images  Instances      Box(P          R      mAP50  mAP50-95): 100%|██████████| 4/4 [00:01<00:00,  2.28it/s]",
          "output_type": "stream"
        },
        {
          "name": "stdout",
          "text": "                   all         52        240      0.542      0.239      0.219      0.145\n",
          "output_type": "stream"
        },
        {
          "name": "stderr",
          "text": "\n",
          "output_type": "stream"
        },
        {
          "name": "stdout",
          "text": "\n      Epoch    GPU_mem   box_loss   cls_loss   dfl_loss  Instances       Size\n",
          "output_type": "stream"
        },
        {
          "name": "stderr",
          "text": "     83/100      14.4G     0.7387     0.8008      2.243         34        640: 100%|██████████| 12/12 [00:14<00:00,  1.18s/it]\n                 Class     Images  Instances      Box(P          R      mAP50  mAP50-95): 100%|██████████| 4/4 [00:01<00:00,  2.29it/s]",
          "output_type": "stream"
        },
        {
          "name": "stdout",
          "text": "                   all         52        240      0.561      0.227      0.221      0.145\n",
          "output_type": "stream"
        },
        {
          "name": "stderr",
          "text": "\n",
          "output_type": "stream"
        },
        {
          "name": "stdout",
          "text": "\n      Epoch    GPU_mem   box_loss   cls_loss   dfl_loss  Instances       Size\n",
          "output_type": "stream"
        },
        {
          "name": "stderr",
          "text": "     84/100      14.4G     0.7314     0.8752      2.236         25        640: 100%|██████████| 12/12 [00:14<00:00,  1.18s/it]\n                 Class     Images  Instances      Box(P          R      mAP50  mAP50-95): 100%|██████████| 4/4 [00:01<00:00,  2.29it/s]",
          "output_type": "stream"
        },
        {
          "name": "stdout",
          "text": "                   all         52        240      0.528      0.225      0.217      0.143\n",
          "output_type": "stream"
        },
        {
          "name": "stderr",
          "text": "\n",
          "output_type": "stream"
        },
        {
          "name": "stdout",
          "text": "\n      Epoch    GPU_mem   box_loss   cls_loss   dfl_loss  Instances       Size\n",
          "output_type": "stream"
        },
        {
          "name": "stderr",
          "text": "     85/100      14.4G     0.7598     0.8923      2.333         17        640: 100%|██████████| 12/12 [00:14<00:00,  1.18s/it]\n                 Class     Images  Instances      Box(P          R      mAP50  mAP50-95): 100%|██████████| 4/4 [00:01<00:00,  2.26it/s]",
          "output_type": "stream"
        },
        {
          "name": "stdout",
          "text": "                   all         52        240      0.522      0.239       0.22      0.148\n",
          "output_type": "stream"
        },
        {
          "name": "stderr",
          "text": "\n",
          "output_type": "stream"
        },
        {
          "name": "stdout",
          "text": "\n      Epoch    GPU_mem   box_loss   cls_loss   dfl_loss  Instances       Size\n",
          "output_type": "stream"
        },
        {
          "name": "stderr",
          "text": "     86/100      14.4G     0.6898     0.7985      2.189         26        640: 100%|██████████| 12/12 [00:14<00:00,  1.18s/it]\n                 Class     Images  Instances      Box(P          R      mAP50  mAP50-95): 100%|██████████| 4/4 [00:01<00:00,  2.28it/s]",
          "output_type": "stream"
        },
        {
          "name": "stdout",
          "text": "                   all         52        240      0.515      0.232      0.215      0.143\n",
          "output_type": "stream"
        },
        {
          "name": "stderr",
          "text": "\n",
          "output_type": "stream"
        },
        {
          "name": "stdout",
          "text": "\n      Epoch    GPU_mem   box_loss   cls_loss   dfl_loss  Instances       Size\n",
          "output_type": "stream"
        },
        {
          "name": "stderr",
          "text": "     87/100      14.4G     0.7194     0.8183       2.28         31        640: 100%|██████████| 12/12 [00:14<00:00,  1.18s/it]\n                 Class     Images  Instances      Box(P          R      mAP50  mAP50-95): 100%|██████████| 4/4 [00:01<00:00,  2.27it/s]",
          "output_type": "stream"
        },
        {
          "name": "stdout",
          "text": "                   all         52        240      0.515      0.246      0.218      0.143\n",
          "output_type": "stream"
        },
        {
          "name": "stderr",
          "text": "\n",
          "output_type": "stream"
        },
        {
          "name": "stdout",
          "text": "\n      Epoch    GPU_mem   box_loss   cls_loss   dfl_loss  Instances       Size\n",
          "output_type": "stream"
        },
        {
          "name": "stderr",
          "text": "     88/100      14.4G     0.6923     0.8342      2.281         13        640: 100%|██████████| 12/12 [00:14<00:00,  1.18s/it]\n                 Class     Images  Instances      Box(P          R      mAP50  mAP50-95): 100%|██████████| 4/4 [00:01<00:00,  2.29it/s]",
          "output_type": "stream"
        },
        {
          "name": "stdout",
          "text": "                   all         52        240      0.527      0.244      0.219      0.149\n",
          "output_type": "stream"
        },
        {
          "name": "stderr",
          "text": "\n",
          "output_type": "stream"
        },
        {
          "name": "stdout",
          "text": "\n      Epoch    GPU_mem   box_loss   cls_loss   dfl_loss  Instances       Size\n",
          "output_type": "stream"
        },
        {
          "name": "stderr",
          "text": "     89/100      14.4G     0.7253     0.8199      2.182         23        640: 100%|██████████| 12/12 [00:14<00:00,  1.18s/it]\n                 Class     Images  Instances      Box(P          R      mAP50  mAP50-95): 100%|██████████| 4/4 [00:01<00:00,  2.29it/s]",
          "output_type": "stream"
        },
        {
          "name": "stdout",
          "text": "                   all         52        240      0.532      0.245      0.217      0.147\n",
          "output_type": "stream"
        },
        {
          "name": "stderr",
          "text": "\n",
          "output_type": "stream"
        },
        {
          "name": "stdout",
          "text": "\n      Epoch    GPU_mem   box_loss   cls_loss   dfl_loss  Instances       Size\n",
          "output_type": "stream"
        },
        {
          "name": "stderr",
          "text": "     90/100      14.4G     0.7444     0.8583      2.278         17        640: 100%|██████████| 12/12 [00:14<00:00,  1.18s/it]\n                 Class     Images  Instances      Box(P          R      mAP50  mAP50-95): 100%|██████████| 4/4 [00:01<00:00,  2.26it/s]",
          "output_type": "stream"
        },
        {
          "name": "stdout",
          "text": "                   all         52        240      0.535      0.242      0.219      0.144\n",
          "output_type": "stream"
        },
        {
          "name": "stderr",
          "text": "\n",
          "output_type": "stream"
        },
        {
          "name": "stdout",
          "text": "Closing dataloader mosaic\n\u001b[34m\u001b[1malbumentations: \u001b[0mBlur(p=0.01, blur_limit=(3, 7)), MedianBlur(p=0.01, blur_limit=(3, 7)), ToGray(p=0.01), CLAHE(p=0.01, clip_limit=(1, 4.0), tile_grid_size=(8, 8))\n\n      Epoch    GPU_mem   box_loss   cls_loss   dfl_loss  Instances       Size\n",
          "output_type": "stream"
        },
        {
          "name": "stderr",
          "text": "     91/100      14.4G     0.5512     0.6628      2.108         12        640: 100%|██████████| 12/12 [00:14<00:00,  1.22s/it]\n                 Class     Images  Instances      Box(P          R      mAP50  mAP50-95): 100%|██████████| 4/4 [00:01<00:00,  2.25it/s]",
          "output_type": "stream"
        },
        {
          "name": "stdout",
          "text": "                   all         52        240      0.533      0.239      0.215      0.143\n",
          "output_type": "stream"
        },
        {
          "name": "stderr",
          "text": "\n",
          "output_type": "stream"
        },
        {
          "name": "stdout",
          "text": "\n      Epoch    GPU_mem   box_loss   cls_loss   dfl_loss  Instances       Size\n",
          "output_type": "stream"
        },
        {
          "name": "stderr",
          "text": "     92/100      14.4G     0.5212     0.6433      2.071         24        640: 100%|██████████| 12/12 [00:14<00:00,  1.17s/it]\n                 Class     Images  Instances      Box(P          R      mAP50  mAP50-95): 100%|██████████| 4/4 [00:01<00:00,  2.29it/s]",
          "output_type": "stream"
        },
        {
          "name": "stdout",
          "text": "                   all         52        240      0.557      0.229      0.223      0.146\n",
          "output_type": "stream"
        },
        {
          "name": "stderr",
          "text": "\n",
          "output_type": "stream"
        },
        {
          "name": "stdout",
          "text": "\n      Epoch    GPU_mem   box_loss   cls_loss   dfl_loss  Instances       Size\n",
          "output_type": "stream"
        },
        {
          "name": "stderr",
          "text": "     93/100      14.4G     0.5223     0.6317      2.095          8        640: 100%|██████████| 12/12 [00:14<00:00,  1.18s/it]\n                 Class     Images  Instances      Box(P          R      mAP50  mAP50-95): 100%|██████████| 4/4 [00:01<00:00,  2.28it/s]",
          "output_type": "stream"
        },
        {
          "name": "stdout",
          "text": "                   all         52        240      0.518      0.231      0.221      0.148\n",
          "output_type": "stream"
        },
        {
          "name": "stderr",
          "text": "\n",
          "output_type": "stream"
        },
        {
          "name": "stdout",
          "text": "\n      Epoch    GPU_mem   box_loss   cls_loss   dfl_loss  Instances       Size\n",
          "output_type": "stream"
        },
        {
          "name": "stderr",
          "text": "     94/100      14.4G      0.527     0.6132      2.133         14        640: 100%|██████████| 12/12 [00:14<00:00,  1.17s/it]\n                 Class     Images  Instances      Box(P          R      mAP50  mAP50-95): 100%|██████████| 4/4 [00:01<00:00,  2.28it/s]",
          "output_type": "stream"
        },
        {
          "name": "stdout",
          "text": "                   all         52        240      0.544      0.231      0.224      0.147\n",
          "output_type": "stream"
        },
        {
          "name": "stderr",
          "text": "\n",
          "output_type": "stream"
        },
        {
          "name": "stdout",
          "text": "\n      Epoch    GPU_mem   box_loss   cls_loss   dfl_loss  Instances       Size\n",
          "output_type": "stream"
        },
        {
          "name": "stderr",
          "text": "     95/100      14.4G     0.5247     0.6128      2.105         22        640: 100%|██████████| 12/12 [00:14<00:00,  1.18s/it]\n                 Class     Images  Instances      Box(P          R      mAP50  mAP50-95): 100%|██████████| 4/4 [00:01<00:00,  2.28it/s]",
          "output_type": "stream"
        },
        {
          "name": "stdout",
          "text": "                   all         52        240      0.511      0.229      0.217      0.145\n",
          "output_type": "stream"
        },
        {
          "name": "stderr",
          "text": "\n",
          "output_type": "stream"
        },
        {
          "name": "stdout",
          "text": "\n      Epoch    GPU_mem   box_loss   cls_loss   dfl_loss  Instances       Size\n",
          "output_type": "stream"
        },
        {
          "name": "stderr",
          "text": "     96/100      14.4G     0.5119     0.5884      2.138         11        640: 100%|██████████| 12/12 [00:14<00:00,  1.17s/it]\n                 Class     Images  Instances      Box(P          R      mAP50  mAP50-95): 100%|██████████| 4/4 [00:01<00:00,  2.29it/s]",
          "output_type": "stream"
        },
        {
          "name": "stdout",
          "text": "                   all         52        240       0.52      0.234      0.216      0.145\n",
          "output_type": "stream"
        },
        {
          "name": "stderr",
          "text": "\n",
          "output_type": "stream"
        },
        {
          "name": "stdout",
          "text": "\n      Epoch    GPU_mem   box_loss   cls_loss   dfl_loss  Instances       Size\n",
          "output_type": "stream"
        },
        {
          "name": "stderr",
          "text": "     97/100      14.4G     0.5116     0.6026      2.004         15        640: 100%|██████████| 12/12 [00:14<00:00,  1.17s/it]\n                 Class     Images  Instances      Box(P          R      mAP50  mAP50-95): 100%|██████████| 4/4 [00:01<00:00,  2.28it/s]",
          "output_type": "stream"
        },
        {
          "name": "stdout",
          "text": "                   all         52        240      0.522      0.238      0.217      0.142\n",
          "output_type": "stream"
        },
        {
          "name": "stderr",
          "text": "\n",
          "output_type": "stream"
        },
        {
          "name": "stdout",
          "text": "\n      Epoch    GPU_mem   box_loss   cls_loss   dfl_loss  Instances       Size\n",
          "output_type": "stream"
        },
        {
          "name": "stderr",
          "text": "     98/100      14.4G     0.5239     0.5813      2.045         21        640: 100%|██████████| 12/12 [00:14<00:00,  1.17s/it]\n                 Class     Images  Instances      Box(P          R      mAP50  mAP50-95): 100%|██████████| 4/4 [00:01<00:00,  2.29it/s]",
          "output_type": "stream"
        },
        {
          "name": "stdout",
          "text": "                   all         52        240      0.526      0.238      0.216      0.143\n",
          "output_type": "stream"
        },
        {
          "name": "stderr",
          "text": "\n",
          "output_type": "stream"
        },
        {
          "name": "stdout",
          "text": "\n      Epoch    GPU_mem   box_loss   cls_loss   dfl_loss  Instances       Size\n",
          "output_type": "stream"
        },
        {
          "name": "stderr",
          "text": "     99/100      14.4G     0.4951     0.5753       2.21          8        640: 100%|██████████| 12/12 [00:14<00:00,  1.18s/it]\n                 Class     Images  Instances      Box(P          R      mAP50  mAP50-95): 100%|██████████| 4/4 [00:01<00:00,  2.27it/s]",
          "output_type": "stream"
        },
        {
          "name": "stdout",
          "text": "                   all         52        240      0.526      0.237      0.215      0.142\n",
          "output_type": "stream"
        },
        {
          "name": "stderr",
          "text": "\n",
          "output_type": "stream"
        },
        {
          "name": "stdout",
          "text": "\n      Epoch    GPU_mem   box_loss   cls_loss   dfl_loss  Instances       Size\n",
          "output_type": "stream"
        },
        {
          "name": "stderr",
          "text": "    100/100      14.4G     0.5185     0.5865       2.13         17        640: 100%|██████████| 12/12 [00:14<00:00,  1.17s/it]\n                 Class     Images  Instances      Box(P          R      mAP50  mAP50-95): 100%|██████████| 4/4 [00:01<00:00,  2.27it/s]",
          "output_type": "stream"
        },
        {
          "name": "stdout",
          "text": "                   all         52        240      0.526      0.236      0.218      0.143\n",
          "output_type": "stream"
        },
        {
          "name": "stderr",
          "text": "\n",
          "output_type": "stream"
        },
        {
          "name": "stdout",
          "text": "\n100 epochs completed in 0.518 hours.\nOptimizer stripped from runs/obb/train2/weights/last.pt, 139.6MB\nOptimizer stripped from runs/obb/train2/weights/best.pt, 139.5MB\n\nValidating runs/obb/train2/weights/best.pt...\nUltralytics YOLOv8.1.40 🚀 Python-3.10.13 torch-2.1.2 CUDA:0 (Tesla T4, 15102MiB)\nYOLOv8x-obb summary (fused): 287 layers, 69488574 parameters, 0 gradients, 263.4 GFLOPs\n",
          "output_type": "stream"
        },
        {
          "name": "stderr",
          "text": "                 Class     Images  Instances      Box(P          R      mAP50  mAP50-95): 100%|██████████| 4/4 [00:03<00:00,  1.31it/s]\n",
          "output_type": "stream"
        },
        {
          "name": "stdout",
          "text": "                   all         52        240      0.652      0.232      0.253      0.159\n                  Auto         52          5      0.626        0.4       0.51      0.414\n             Barricade         52          1          1          0      0.166     0.0995\n                  Bike         52         21      0.485      0.449       0.53      0.337\n                   Bus         52          5      0.359      0.231      0.296      0.178\n                   Car         52         19      0.457      0.399      0.425      0.307\n  Distress in footpath         52          2          0          0    0.00949    0.00285\n                   Dog         52          2          1          0          0          0\n         Electric Pole         52          3          1          0      0.227      0.127\n         Electric pole         52          7      0.232      0.143       0.18     0.0939\n           Pedestrians         52         14      0.373        0.5      0.279      0.151\n          Road divider         52          1          0          0          0          0\n           Sign boards         52          1          1          0          0          0\n                 Steps         52          4          1          0          0          0\n          Streel Light         52         19      0.476     0.0978      0.225       0.11\n                  Tree         52          5      0.597        0.2      0.334       0.28\n               Vendors         52         25      0.688       0.64      0.622      0.306\n               barrier         52          3          1          0          0          0\n     block in footpath         52          1          1          0          0          0\n                  cart         52          1      0.296          1      0.332     0.0995\n               divider         52          3        0.9      0.333      0.372       0.26\n              dust bin         52          1      0.461          1      0.995      0.796\n              obstacle         52         17      0.631      0.294      0.327        0.2\n                 pede-         52          3          1          0      0.175      0.048\n            pedestrian         52         54      0.677      0.444      0.529      0.324\n                people         52          4          1          0          0          0\n                poster         52          1          1          0          0          0\n               pothole         52          2          0          0          0          0\n                  shop         52          1          0          0      0.111     0.0221\n            sign board         52          9      0.619      0.333      0.369      0.279\n                  tray         52          3          1          0     0.0856     0.0342\n           uneven path         52          1          1          0          0          0\n           zebra cross         52          2          1      0.955      0.995       0.63\nSpeed: 0.6ms preprocess, 27.5ms inference, 0.0ms loss, 7.1ms postprocess per image\nResults saved to \u001b[1mruns/obb/train2\u001b[0m\n",
          "output_type": "stream"
        },
        {
          "output_type": "display_data",
          "data": {
            "text/plain": "VBox(children=(Label(value='143.444 MB of 143.444 MB uploaded\\r'), FloatProgress(value=1.0, max=1.0)))",
            "application/vnd.jupyter.widget-view+json": {
              "version_major": 2,
              "version_minor": 0,
              "model_id": "21434c913dbc452fbc3d8a762d9c6f15"
            }
          },
          "metadata": {}
        },
        {
          "output_type": "display_data",
          "data": {
            "text/plain": "<IPython.core.display.HTML object>",
            "text/html": "<style>\n    table.wandb td:nth-child(1) { padding: 0 10px; text-align: left ; width: auto;} td:nth-child(2) {text-align: left ; width: 100%}\n    .wandb-row { display: flex; flex-direction: row; flex-wrap: wrap; justify-content: flex-start; width: 100% }\n    .wandb-col { display: flex; flex-direction: column; flex-basis: 100%; flex: 1; padding: 10px; }\n    </style>\n<div class=\"wandb-row\"><div class=\"wandb-col\"><h3>Run history:</h3><br/><table class=\"wandb\"><tr><td>lr/pg0</td><td>▂▃▆████▇▇▇▇▇▆▆▆▆▆▅▅▅▅▅▄▄▄▄▄▃▃▃▃▃▂▂▂▂▂▁▁▁</td></tr><tr><td>lr/pg1</td><td>▂▃▆████▇▇▇▇▇▆▆▆▆▆▅▅▅▅▅▄▄▄▄▄▃▃▃▃▃▂▂▂▂▂▁▁▁</td></tr><tr><td>lr/pg2</td><td>▂▃▆████▇▇▇▇▇▆▆▆▆▆▅▅▅▅▅▄▄▄▄▄▃▃▃▃▃▂▂▂▂▂▁▁▁</td></tr><tr><td>metrics/mAP50(B)</td><td>▁▂▃▄▄▄▆▅▇▇▇▆▇▆▆▇▇▇█▇▇▆▇▇▇█▇▇▆▇▇▆▇▇▇▇▇▇▇█</td></tr><tr><td>metrics/mAP50-95(B)</td><td>▁▂▂▃▃▄▆▅▆▆▆▆▇▆▆▇▇██▇▇▆▇▇▇█▇▇▇▇█▇▇▇▇▇▇▇▇█</td></tr><tr><td>metrics/precision(B)</td><td>▁▁▆█▇▆█▇▇▅▆▆▆▆▇▄▅▆▇▇▆▇▆▇▆▇▆█▇█▇▇▆▆▆▆▆▆▆▇</td></tr><tr><td>metrics/recall(B)</td><td>▁▆▄▃▃▄▄▅▆▆█▅▇▆▆▇▇▇▇▇▇▆▇▆█▇█▇▆▆▇▆▇▇▇▇▇▇▇▇</td></tr><tr><td>model/GFLOPs</td><td>▁</td></tr><tr><td>model/parameters</td><td>▁</td></tr><tr><td>model/speed_PyTorch(ms)</td><td>▁</td></tr><tr><td>train/box_loss</td><td>█▆▅▅▄▅▄▄▄▄▄▃▃▃▃▃▃▃▃▃▂▂▂▂▂▂▂▂▂▂▂▂▂▂▂▂▁▁▁▁</td></tr><tr><td>train/cls_loss</td><td>█▇▅▅▄▄▄▃▃▃▃▃▃▂▂▂▂▂▂▂▂▂▂▂▂▂▂▁▂▁▂▁▁▁▁▁▁▁▁▁</td></tr><tr><td>train/dfl_loss</td><td>█▆▅▅▅▄▄▄▄▄▄▄▄▃▄▃▃▃▃▃▃▃▃▂▃▃▂▂▂▂▂▂▂▂▂▂▁▂▁▂</td></tr><tr><td>val/box_loss</td><td>█▄▁▁▁▁▂▂▂▃▂▂▂▃▃▂▂▃▂▃▂▁▁▃▃▃▃▃▄▂▃▃▂▂▃▃▂▂▂▂</td></tr><tr><td>val/cls_loss</td><td>█▆▆▃▂▂▂▁▁▁▁▁▁▁▁▁▁▁▁▂▁▁▂▁▁▁▁▁▂▁▁▂▁▂▂▂▂▂▂▂</td></tr><tr><td>val/dfl_loss</td><td>█▃▁▂▂▂▂▃▂▃▁▂▂▃▃▂▃▃▂▃▃▃▃▃▄▄▄▃▄▄▄▄▄▄▄▃▄▄▄▄</td></tr></table><br/></div><div class=\"wandb-col\"><h3>Run summary:</h3><br/><table class=\"wandb\"><tr><td>lr/pg0</td><td>1e-05</td></tr><tr><td>lr/pg1</td><td>1e-05</td></tr><tr><td>lr/pg2</td><td>1e-05</td></tr><tr><td>metrics/mAP50(B)</td><td>0.25293</td></tr><tr><td>metrics/mAP50-95(B)</td><td>0.15933</td></tr><tr><td>metrics/precision(B)</td><td>0.65242</td></tr><tr><td>metrics/recall(B)</td><td>0.23188</td></tr><tr><td>model/GFLOPs</td><td>264.11</td></tr><tr><td>model/parameters</td><td>69518094</td></tr><tr><td>model/speed_PyTorch(ms)</td><td>27.525</td></tr><tr><td>train/box_loss</td><td>0.51854</td></tr><tr><td>train/cls_loss</td><td>0.58653</td></tr><tr><td>train/dfl_loss</td><td>2.1298</td></tr><tr><td>val/box_loss</td><td>1.55947</td></tr><tr><td>val/cls_loss</td><td>2.64111</td></tr><tr><td>val/dfl_loss</td><td>3.13029</td></tr></table><br/></div></div>"
          },
          "metadata": {}
        },
        {
          "output_type": "display_data",
          "data": {
            "text/plain": "<IPython.core.display.HTML object>",
            "text/html": " View run <strong style=\"color:#cdcd00\">train2</strong> at: <a href='https://wandb.ai/veghotdog/YOLOv8/runs/h3jbvym8' target=\"_blank\">https://wandb.ai/veghotdog/YOLOv8/runs/h3jbvym8</a><br/>Synced 6 W&B file(s), 20 media file(s), 1 artifact file(s) and 0 other file(s)"
          },
          "metadata": {}
        },
        {
          "output_type": "display_data",
          "data": {
            "text/plain": "<IPython.core.display.HTML object>",
            "text/html": "Find logs at: <code>./wandb/run-20240401_120745-h3jbvym8/logs</code>"
          },
          "metadata": {}
        }
      ]
    },
    {
      "cell_type": "code",
      "source": [
        "from ultralytics import YOLO\n",
        "\n",
        "model = YOLO('runs/obb/train/weights/best.pt')\n",
        "\n",
        "metrics = model.val(data='/kaggle/input/detect-footpath-vendors/Detect footpath vendors.v6i.yolov8-obb/data.yaml')\n",
        "\n",
        "print(metrics.box.map)\n",
        "print(metrics.box.map50)\n",
        "print(metrics.box.map75)\n",
        "print(metrics.box.maps)"
      ],
      "metadata": {
        "execution": {
          "iopub.status.busy": "2024-04-01T12:39:48.817707Z",
          "iopub.execute_input": "2024-04-01T12:39:48.818429Z",
          "iopub.status.idle": "2024-04-01T12:40:03.047901Z",
          "shell.execute_reply.started": "2024-04-01T12:39:48.8184Z",
          "shell.execute_reply": "2024-04-01T12:40:03.046783Z"
        },
        "jupyter": {
          "source_hidden": true
        },
        "trusted": true,
        "id": "AYNlcDkIPdxI",
        "outputId": "40e3ca8e-425c-461a-ecb3-357682502fe6"
      },
      "execution_count": null,
      "outputs": [
        {
          "name": "stdout",
          "text": "Ultralytics YOLOv8.1.40 🚀 Python-3.10.13 torch-2.1.2 CUDA:0 (Tesla T4, 15102MiB)\nYOLOv8x-obb summary (fused): 287 layers, 69488574 parameters, 0 gradients, 263.4 GFLOPs\n",
          "output_type": "stream"
        },
        {
          "name": "stderr",
          "text": "\u001b[34m\u001b[1mval: \u001b[0mScanning /kaggle/input/detect-footpath-vendors/Detect footpath vendors.v6i.yolov8-obb/valid/labels... 52 images, 0 backgrounds, 0 corrupt: 100%|██████████| 52/52 [00:00<00:00, 678.97it/s]",
          "output_type": "stream"
        },
        {
          "name": "stdout",
          "text": "\u001b[34m\u001b[1mval: \u001b[0mWARNING ⚠️ Cache directory /kaggle/input/detect-footpath-vendors/Detect footpath vendors.v6i.yolov8-obb/valid is not writeable, cache not saved.\n",
          "output_type": "stream"
        },
        {
          "name": "stderr",
          "text": "\n                 Class     Images  Instances      Box(P          R      mAP50  mAP50-95): 100%|██████████| 4/4 [00:04<00:00,  1.24s/it]\n",
          "output_type": "stream"
        },
        {
          "name": "stdout",
          "text": "                   all         52        240      0.652      0.232      0.253      0.159\n                  Auto         52          5      0.624        0.4       0.51      0.414\n             Barricade         52          1          1          0      0.166     0.0995\n                  Bike         52         21      0.487      0.453      0.534      0.338\n                   Bus         52          5       0.36      0.232      0.296      0.178\n                   Car         52         19      0.456      0.398      0.425      0.309\n  Distress in footpath         52          2          0          0    0.00949    0.00285\n                   Dog         52          2          1          0          0          0\n         Electric Pole         52          3          1          0      0.227      0.127\n         Electric pole         52          7      0.232      0.143       0.18     0.0938\n           Pedestrians         52         14      0.373        0.5      0.278      0.151\n          Road divider         52          1          0          0          0          0\n           Sign boards         52          1          1          0          0          0\n                 Steps         52          4          1          0          0          0\n          Streel Light         52         19      0.476     0.0978      0.225       0.11\n                  Tree         52          5      0.597        0.2      0.334       0.28\n               Vendors         52         25      0.689       0.64      0.622      0.306\n               barrier         52          3          1          0          0          0\n     block in footpath         52          1          1          0          0          0\n                  cart         52          1      0.296          1      0.332     0.0995\n               divider         52          3        0.9      0.333      0.372       0.26\n              dust bin         52          1      0.461          1      0.995      0.796\n              obstacle         52         17      0.632      0.294      0.327        0.2\n                 pede-         52          3          1          0      0.175     0.0479\n            pedestrian         52         54      0.675      0.444      0.529      0.324\n                people         52          4          1          0          0          0\n                poster         52          1          1          0          0          0\n               pothole         52          2          0          0          0          0\n                  shop         52          1          0          0      0.111     0.0221\n            sign board         52          9      0.619      0.333      0.369      0.279\n                  tray         52          3          1          0     0.0857     0.0343\n           uneven path         52          1          1          0          0          0\n           zebra cross         52          2          1      0.958      0.995       0.63\nSpeed: 0.3ms preprocess, 63.0ms inference, 0.0ms loss, 7.0ms postprocess per image\nResults saved to \u001b[1mruns/obb/val3\u001b[0m\n0.15942200986374488\n0.25301581737542567\n0.16766609284415762\n[    0.41418      0.0995     0.33826     0.17799     0.30867   0.0028478           0     0.12743    0.093831     0.15942     0.15942     0.15073           0           0           0      0.1096     0.15942     0.27963      0.3063           0     0.15942     0.15942           0      0.0995     0.26029       0.796\n     0.15942     0.20024    0.047872     0.32357           0           0     0.15942           0    0.022111      0.2786     0.15942    0.034266           0     0.15942     0.63008]\n",
          "output_type": "stream"
        }
      ]
    },
    {
      "cell_type": "code",
      "source": [
        "model = YOLO('runs/obb/train/weights/best.pt')\n",
        "\n",
        "results = model('/kaggle/input/detect-footpath-vendors/Detect footpath vendors.v6i.yolov8-obb/test/images',imgsz=640, save=True)"
      ],
      "metadata": {
        "execution": {
          "iopub.status.busy": "2024-04-01T12:40:03.049792Z",
          "iopub.execute_input": "2024-04-01T12:40:03.050128Z",
          "iopub.status.idle": "2024-04-01T12:40:07.797659Z",
          "shell.execute_reply.started": "2024-04-01T12:40:03.050097Z",
          "shell.execute_reply": "2024-04-01T12:40:07.79678Z"
        },
        "trusted": true,
        "id": "Bz1YehidPdxJ",
        "outputId": "9b723055-ca85-4dc5-fb39-c22cbd500dd4"
      },
      "execution_count": null,
      "outputs": [
        {
          "name": "stdout",
          "text": "\nimage 1/40 /kaggle/input/detect-footpath-vendors/Detect footpath vendors.v6i.yolov8-obb/test/images/101_jpg.rf.6453328315bfee1c4e95e7753d554e86.jpg: 640x640 77.3ms\nimage 2/40 /kaggle/input/detect-footpath-vendors/Detect footpath vendors.v6i.yolov8-obb/test/images/113_jpg.rf.0ecfe64de3295e85f0d5ee8569f8b8ca.jpg: 640x640 63.7ms\nimage 3/40 /kaggle/input/detect-footpath-vendors/Detect footpath vendors.v6i.yolov8-obb/test/images/116_jpg.rf.930f200db12295dbd244162295ad53a1.jpg: 640x640 63.6ms\nimage 4/40 /kaggle/input/detect-footpath-vendors/Detect footpath vendors.v6i.yolov8-obb/test/images/11_jpg.rf.8d130c870b616dd2126458a1c85b3f6d.jpg: 640x640 56.5ms\nimage 5/40 /kaggle/input/detect-footpath-vendors/Detect footpath vendors.v6i.yolov8-obb/test/images/14_jpg.rf.7a78a90c0362070617b09fbf5ddbbad7.jpg: 640x640 57.7ms\nimage 6/40 /kaggle/input/detect-footpath-vendors/Detect footpath vendors.v6i.yolov8-obb/test/images/16_jpg.rf.f81456c6ee659c8a5e01fa2878c90d1a.jpg: 640x640 58.1ms\nimage 7/40 /kaggle/input/detect-footpath-vendors/Detect footpath vendors.v6i.yolov8-obb/test/images/1_jpg.rf.23bc38447ceaff1bc68102eaa6250cfb.jpg: 640x640 57.9ms\nimage 8/40 /kaggle/input/detect-footpath-vendors/Detect footpath vendors.v6i.yolov8-obb/test/images/20_jpg.rf.ff7331a1946400ea02dcfa82cb33a545.jpg: 640x640 56.1ms\nimage 9/40 /kaggle/input/detect-footpath-vendors/Detect footpath vendors.v6i.yolov8-obb/test/images/36_jpg.rf.53ae4aa57e72f736fb8ba714de51be9a.jpg: 640x640 57.2ms\nimage 10/40 /kaggle/input/detect-footpath-vendors/Detect footpath vendors.v6i.yolov8-obb/test/images/39_jpg.rf.36d55e2b21dcafba20c4d7e410e87e23.jpg: 640x640 59.5ms\nimage 11/40 /kaggle/input/detect-footpath-vendors/Detect footpath vendors.v6i.yolov8-obb/test/images/41_jpg.rf.7731c25d8ca34a60ce1160d79ed836ca.jpg: 640x640 57.5ms\nimage 12/40 /kaggle/input/detect-footpath-vendors/Detect footpath vendors.v6i.yolov8-obb/test/images/4_jpg.rf.a062dec5aec3b0c02a0fe91e12393ee1.jpg: 640x640 57.4ms\nimage 13/40 /kaggle/input/detect-footpath-vendors/Detect footpath vendors.v6i.yolov8-obb/test/images/57_jpg.rf.a54a5c6b9f3750272f18ed70154cfafc.jpg: 640x640 57.8ms\nimage 14/40 /kaggle/input/detect-footpath-vendors/Detect footpath vendors.v6i.yolov8-obb/test/images/58_jpg.rf.5ff4a76b1f42864e3eac3b9102fdaef2.jpg: 640x640 58.3ms\nimage 15/40 /kaggle/input/detect-footpath-vendors/Detect footpath vendors.v6i.yolov8-obb/test/images/60_jpg.rf.27c89ba3e836762a5922d1933429fbb6.jpg: 640x640 (no detections), 57.9ms\nimage 16/40 /kaggle/input/detect-footpath-vendors/Detect footpath vendors.v6i.yolov8-obb/test/images/77_jpg.rf.969b2061cc04d4c228be702f797ed661.jpg: 640x640 60.7ms\nimage 17/40 /kaggle/input/detect-footpath-vendors/Detect footpath vendors.v6i.yolov8-obb/test/images/86_jpg.rf.dcb329ada693539d433aca104d2ae37e.jpg: 640x640 58.7ms\nimage 18/40 /kaggle/input/detect-footpath-vendors/Detect footpath vendors.v6i.yolov8-obb/test/images/95_jpg.rf.1f21329458532158d8a0f51923bda6d3.jpg: 640x640 58.0ms\nimage 19/40 /kaggle/input/detect-footpath-vendors/Detect footpath vendors.v6i.yolov8-obb/test/images/WhatsApp-Image-2023-02-24-at-11-11-23-PM-1-_jpeg.rf.44754fd073805f3033680dc3677a7c07.jpg: 640x640 58.0ms\nimage 20/40 /kaggle/input/detect-footpath-vendors/Detect footpath vendors.v6i.yolov8-obb/test/images/WhatsApp-Image-2023-02-24-at-11-11-24-PM-2-_jpeg.rf.f3e6ff8ea8a76ede64acc0020d64ec23.jpg: 640x640 57.6ms\nimage 21/40 /kaggle/input/detect-footpath-vendors/Detect footpath vendors.v6i.yolov8-obb/test/images/WhatsApp-Image-2023-02-24-at-11-11-25-PM-1-_jpeg.rf.98fbcec574024fb8638b211b5d922c8f.jpg: 640x640 58.8ms\nimage 22/40 /kaggle/input/detect-footpath-vendors/Detect footpath vendors.v6i.yolov8-obb/test/images/WhatsApp-Image-2023-02-24-at-11-11-30-PM-2-_jpeg.rf.eea67318a9b0018c9c90aa5e64c0938b.jpg: 640x640 59.1ms\nimage 23/40 /kaggle/input/detect-footpath-vendors/Detect footpath vendors.v6i.yolov8-obb/test/images/WhatsApp-Image-2023-02-24-at-11-11-32-PM-1-_jpeg.rf.64f7f9c8c08e374f19737b5a5788d7b6.jpg: 640x640 57.5ms\nimage 24/40 /kaggle/input/detect-footpath-vendors/Detect footpath vendors.v6i.yolov8-obb/test/images/WhatsApp-Image-2023-02-24-at-11-17-03-PM-1-_jpeg.rf.9f33e4274e2413dce92ab8daf1a295b0.jpg: 640x640 56.8ms\nimage 25/40 /kaggle/input/detect-footpath-vendors/Detect footpath vendors.v6i.yolov8-obb/test/images/WhatsApp-Image-2023-02-24-at-11-17-05-PM_jpeg.rf.fb926bc8c67047475e72d90acabab94f.jpg: 640x640 56.9ms\nimage 26/40 /kaggle/input/detect-footpath-vendors/Detect footpath vendors.v6i.yolov8-obb/test/images/WhatsApp-Image-2023-02-24-at-11-17-07-PM-1-_jpeg.rf.a4e34f7892419dc7501673b506fb0b64.jpg: 640x640 59.1ms\nimage 27/40 /kaggle/input/detect-footpath-vendors/Detect footpath vendors.v6i.yolov8-obb/test/images/WhatsApp-Image-2023-02-24-at-11-17-08-PM-1-_jpeg.rf.a98a82a4bced181d0ac016f9e8c0ab29.jpg: 640x640 57.1ms\nimage 28/40 /kaggle/input/detect-footpath-vendors/Detect footpath vendors.v6i.yolov8-obb/test/images/WhatsApp-Image-2023-02-24-at-11-17-16-PM-1-_jpeg.rf.5a5beaf93f2e3e1cff227c9bc35f871b.jpg: 640x640 57.7ms\nimage 29/40 /kaggle/input/detect-footpath-vendors/Detect footpath vendors.v6i.yolov8-obb/test/images/WhatsApp-Image-2023-02-24-at-11-17-18-PM-1-_jpeg.rf.5680eadcebd85b397a973beb844b31e5.jpg: 640x640 56.1ms\nimage 30/40 /kaggle/input/detect-footpath-vendors/Detect footpath vendors.v6i.yolov8-obb/test/images/WhatsApp-Image-2023-02-24-at-11-17-21-PM_jpeg.rf.63277780cc9ee209c41e6be356c93d85.jpg: 640x640 59.5ms\nimage 31/40 /kaggle/input/detect-footpath-vendors/Detect footpath vendors.v6i.yolov8-obb/test/images/WhatsApp-Image-2023-02-24-at-11-22-22-PM-1-_jpeg.rf.1c6eddd75613f06dcc366949b2dabab8.jpg: 640x640 56.8ms\nimage 32/40 /kaggle/input/detect-footpath-vendors/Detect footpath vendors.v6i.yolov8-obb/test/images/WhatsApp-Image-2023-02-24-at-11-22-31-PM-1-_jpeg.rf.8862e615b1727f4de0a13e1671552efb.jpg: 640x640 58.5ms\nimage 33/40 /kaggle/input/detect-footpath-vendors/Detect footpath vendors.v6i.yolov8-obb/test/images/WhatsApp-Image-2023-02-24-at-11-22-31-PM_jpeg.rf.9ccfbcf786645eada8a98d1e00fad72b.jpg: 640x640 56.8ms\nimage 34/40 /kaggle/input/detect-footpath-vendors/Detect footpath vendors.v6i.yolov8-obb/test/images/WhatsApp-Image-2023-02-24-at-11-22-35-PM_jpeg.rf.86f1e7dc31fbb8546c308bcc2c756462.jpg: 640x640 56.5ms\nimage 35/40 /kaggle/input/detect-footpath-vendors/Detect footpath vendors.v6i.yolov8-obb/test/images/WhatsApp-Image-2023-02-24-at-11-22-38-PM-1-_jpeg.rf.db23143f89c8938021cee797d8b933d6.jpg: 640x640 58.2ms\nimage 36/40 /kaggle/input/detect-footpath-vendors/Detect footpath vendors.v6i.yolov8-obb/test/images/WhatsApp-Image-2023-02-24-at-11-22-39-PM-1-_jpeg.rf.e8a2018a174889742d2d1827e97f8ced.jpg: 640x640 57.7ms\nimage 37/40 /kaggle/input/detect-footpath-vendors/Detect footpath vendors.v6i.yolov8-obb/test/images/WhatsApp-Image-2023-02-24-at-11-22-42-PM-1-_jpeg.rf.35e3f8368c7f56427372731581e44326.jpg: 640x640 58.4ms\nimage 38/40 /kaggle/input/detect-footpath-vendors/Detect footpath vendors.v6i.yolov8-obb/test/images/WhatsApp-Image-2023-02-24-at-11-22-43-PM-1-_jpeg.rf.af1066419497a0bf7e8f3378f87d0d58.jpg: 640x640 58.3ms\nimage 39/40 /kaggle/input/detect-footpath-vendors/Detect footpath vendors.v6i.yolov8-obb/test/images/WhatsApp-Image-2023-02-24-at-11-22-46-PM-1-_jpeg.rf.e970c06b6256736b2d06dd8b0e8fc67b.jpg: 640x640 58.8ms\nimage 40/40 /kaggle/input/detect-footpath-vendors/Detect footpath vendors.v6i.yolov8-obb/test/images/WhatsApp-Image-2023-02-24-at-11-22-47-PM_jpeg.rf.f2f4f421b5c9779bcccede66b0da0c7d.jpg: 640x640 58.0ms\nSpeed: 1.6ms preprocess, 58.7ms inference, 2.7ms postprocess per image at shape (1, 3, 640, 640)\nResults saved to \u001b[1mruns/obb/predict4\u001b[0m\n",
          "output_type": "stream"
        }
      ]
    },
    {
      "cell_type": "code",
      "source": [
        "!ls runs/obb/train/weights"
      ],
      "metadata": {
        "execution": {
          "iopub.status.busy": "2024-04-01T12:40:07.798954Z",
          "iopub.execute_input": "2024-04-01T12:40:07.799238Z",
          "iopub.status.idle": "2024-04-01T12:40:08.856045Z",
          "shell.execute_reply.started": "2024-04-01T12:40:07.799213Z",
          "shell.execute_reply": "2024-04-01T12:40:08.854859Z"
        },
        "trusted": true,
        "id": "PqXIllW5PdxK",
        "outputId": "ffde61c5-31bc-4fa7-ace6-21900f93f43b"
      },
      "execution_count": null,
      "outputs": [
        {
          "name": "stdout",
          "text": "best.pt  last.pt\n",
          "output_type": "stream"
        }
      ]
    },
    {
      "cell_type": "code",
      "source": [
        "import shutil\n",
        "\n",
        "# Source path of the best.pt file\n",
        "source_path = '/kaggle/working/runs/obb/train/weights/best.pt'\n",
        "\n",
        "# Destination path to copy the file within Kaggle environment\n",
        "destination_path = '/kaggle/working/best.pt'\n",
        "\n",
        "# Copy the file to the destination path\n",
        "shutil.copyfile(source_path, destination_path)\n",
        "\n",
        "# Download the best.pt file\n",
        "from IPython.display import FileLink\n",
        "FileLink('/kaggle/working/best.pt')\n"
      ],
      "metadata": {
        "execution": {
          "iopub.status.busy": "2024-04-01T12:40:08.85782Z",
          "iopub.execute_input": "2024-04-01T12:40:08.858163Z",
          "iopub.status.idle": "2024-04-01T12:40:09.053358Z",
          "shell.execute_reply.started": "2024-04-01T12:40:08.858133Z",
          "shell.execute_reply": "2024-04-01T12:40:09.052372Z"
        },
        "trusted": true,
        "id": "2nzDq536PdxN",
        "outputId": "29f6e437-0ea2-4bdc-ab17-474ff259d961"
      },
      "execution_count": null,
      "outputs": [
        {
          "execution_count": 19,
          "output_type": "execute_result",
          "data": {
            "text/plain": "/kaggle/working/best.pt",
            "text/html": "<a href='/kaggle/working/best.pt' target='_blank'>/kaggle/working/best.pt</a><br>"
          },
          "metadata": {}
        }
      ]
    },
    {
      "cell_type": "code",
      "source": [
        "model = YOLO('runs/obb/train/weights/best.pt')\n",
        "metrics = model.val(data='/kaggle/input/detect-footpath-vendors/Detect footpath vendors.v6i.yolov8-obb/data.yaml')\n",
        "\n",
        "mAP = metrics.box.map\n",
        "\n",
        "mAP_50 = metrics.box.map50\n",
        "\n",
        "\n",
        "mAP_75 = metrics.box.map75\n",
        "\n",
        "\n",
        "mAPs = metrics.box.maps\n",
        "\n",
        "\n",
        "precision = metrics.box.p\n",
        "recall = metrics.box.r\n",
        "\n",
        "overall_precision = metrics.box.mp\n",
        "overall_recall = metrics.box.mr\n",
        "\n",
        "print(f\"mAP: {mAP:.4f}\")\n",
        "print(f\"mAP@0.5: {mAP_50:.4f}\")\n",
        "print(f\"mAP@0.75: {mAP_75:.4f}\")\n",
        "print(f\"mAPs: {mAPs}\")\n",
        "print(f\"Precision: {precision}\")\n",
        "print(f\"Recall: {recall}\")\n",
        "print(f\"Overall Precision: {overall_precision:.4f}\")\n",
        "print(f\"Overall Recall: {overall_recall:.4f}\")"
      ],
      "metadata": {
        "execution": {
          "iopub.status.busy": "2024-04-01T12:51:30.407369Z",
          "iopub.execute_input": "2024-04-01T12:51:30.408142Z",
          "iopub.status.idle": "2024-04-01T12:51:44.863043Z",
          "shell.execute_reply.started": "2024-04-01T12:51:30.40811Z",
          "shell.execute_reply": "2024-04-01T12:51:44.861624Z"
        },
        "trusted": true,
        "id": "0qnGNZLCPdxO",
        "outputId": "cf0fcc28-924a-4c14-8dff-992125f7dc10"
      },
      "execution_count": null,
      "outputs": [
        {
          "name": "stdout",
          "text": "Ultralytics YOLOv8.1.40 🚀 Python-3.10.13 torch-2.1.2 CUDA:0 (Tesla T4, 15102MiB)\nYOLOv8x-obb summary (fused): 287 layers, 69488574 parameters, 0 gradients, 263.4 GFLOPs\n",
          "output_type": "stream"
        },
        {
          "name": "stderr",
          "text": "\u001b[34m\u001b[1mval: \u001b[0mScanning /kaggle/input/detect-footpath-vendors/Detect footpath vendors.v6i.yolov8-obb/valid/labels... 52 images, 0 backgrounds, 0 corrupt: 100%|██████████| 52/52 [00:00<00:00, 649.56it/s]",
          "output_type": "stream"
        },
        {
          "name": "stdout",
          "text": "\u001b[34m\u001b[1mval: \u001b[0mWARNING ⚠️ Cache directory /kaggle/input/detect-footpath-vendors/Detect footpath vendors.v6i.yolov8-obb/valid is not writeable, cache not saved.\n",
          "output_type": "stream"
        },
        {
          "name": "stderr",
          "text": "\n                 Class     Images  Instances      Box(P          R      mAP50  mAP50-95): 100%|██████████| 4/4 [00:05<00:00,  1.25s/it]\n",
          "output_type": "stream"
        },
        {
          "name": "stdout",
          "text": "                   all         52        240      0.652      0.232      0.253      0.159\n                  Auto         52          5      0.624        0.4       0.51      0.414\n             Barricade         52          1          1          0      0.166     0.0995\n                  Bike         52         21      0.487      0.453      0.534      0.338\n                   Bus         52          5       0.36      0.232      0.296      0.178\n                   Car         52         19      0.456      0.398      0.425      0.309\n  Distress in footpath         52          2          0          0    0.00949    0.00285\n                   Dog         52          2          1          0          0          0\n         Electric Pole         52          3          1          0      0.227      0.127\n         Electric pole         52          7      0.232      0.143       0.18     0.0938\n           Pedestrians         52         14      0.373        0.5      0.278      0.151\n          Road divider         52          1          0          0          0          0\n           Sign boards         52          1          1          0          0          0\n                 Steps         52          4          1          0          0          0\n          Streel Light         52         19      0.476     0.0978      0.225       0.11\n                  Tree         52          5      0.597        0.2      0.334       0.28\n               Vendors         52         25      0.689       0.64      0.622      0.306\n               barrier         52          3          1          0          0          0\n     block in footpath         52          1          1          0          0          0\n                  cart         52          1      0.296          1      0.332     0.0995\n               divider         52          3        0.9      0.333      0.372       0.26\n              dust bin         52          1      0.461          1      0.995      0.796\n              obstacle         52         17      0.632      0.294      0.327        0.2\n                 pede-         52          3          1          0      0.175     0.0479\n            pedestrian         52         54      0.675      0.444      0.529      0.324\n                people         52          4          1          0          0          0\n                poster         52          1          1          0          0          0\n               pothole         52          2          0          0          0          0\n                  shop         52          1          0          0      0.111     0.0221\n            sign board         52          9      0.619      0.333      0.369      0.279\n                  tray         52          3          1          0     0.0857     0.0343\n           uneven path         52          1          1          0          0          0\n           zebra cross         52          2          1      0.958      0.995       0.63\nSpeed: 0.3ms preprocess, 64.0ms inference, 0.0ms loss, 7.2ms postprocess per image\nResults saved to \u001b[1mruns/obb/val7\u001b[0m\nmAP: 0.1594\nmAP@0.5: 0.2530\nmAP@0.75: 0.1677\nmAPs: [    0.41418      0.0995     0.33826     0.17799     0.30867   0.0028478           0     0.12743    0.093831     0.15942     0.15942     0.15073           0           0           0      0.1096     0.15942     0.27963      0.3063           0     0.15942     0.15942           0      0.0995     0.26029       0.796\n     0.15942     0.20024    0.047872     0.32357           0           0     0.15942           0    0.022111      0.2786     0.15942    0.034266           0     0.15942     0.63008]\nPrecision: [    0.62432           1      0.4874     0.36005     0.45637           0           1           1     0.23221     0.37272           0           1           1     0.47635     0.59652     0.68925           1           1     0.29568     0.90034     0.46121     0.63207           1     0.67545           1           1\n           0           0     0.61892           1           1           1]\nRecall: [        0.4           0      0.4534     0.23206     0.39843           0           0           0     0.14286         0.5           0           0           0    0.097796         0.2        0.64           0           0           1     0.33333           1     0.29412           0     0.44444           0           0\n           0           0     0.33333           0           0      0.9577]\nOverall Precision: 0.6525\nOverall Recall: 0.2321\n",
          "output_type": "stream"
        }
      ]
    },
    {
      "cell_type": "code",
      "source": [
        "model = YOLO('runs/obb/train/weights/best.pt')\n",
        "\n",
        "results = model('/kaggle/input/detect-footpath-vendors/Detect footpath vendors.v6i.yolov8-obb/test/images',imgsz=640, save=True)"
      ],
      "metadata": {
        "id": "6P4NxYyuPdxP"
      },
      "execution_count": null,
      "outputs": []
    },
    {
      "cell_type": "markdown",
      "source": [
        "**2**"
      ],
      "metadata": {
        "id": "33h9S4GcPdxQ"
      }
    },
    {
      "cell_type": "code",
      "source": [
        "!pip show pyyaml tensorflow"
      ],
      "metadata": {
        "execution": {
          "iopub.status.busy": "2024-04-01T12:40:24.083918Z",
          "iopub.status.idle": "2024-04-01T12:40:24.084233Z",
          "shell.execute_reply.started": "2024-04-01T12:40:24.084073Z",
          "shell.execute_reply": "2024-04-01T12:40:24.084086Z"
        },
        "trusted": true,
        "id": "gZ65smpsPdxS"
      },
      "execution_count": null,
      "outputs": []
    },
    {
      "cell_type": "code",
      "source": [
        "import tensorflow as tf\n",
        "tf.__version__"
      ],
      "metadata": {
        "execution": {
          "iopub.status.busy": "2024-04-01T12:40:24.086598Z",
          "iopub.status.idle": "2024-04-01T12:40:24.087079Z",
          "shell.execute_reply.started": "2024-04-01T12:40:24.086832Z",
          "shell.execute_reply": "2024-04-01T12:40:24.086851Z"
        },
        "trusted": true,
        "id": "eSm7np_4PdxT"
      },
      "execution_count": null,
      "outputs": []
    },
    {
      "cell_type": "code",
      "source": [
        "!nvcc --version\n",
        "!python --version"
      ],
      "metadata": {
        "execution": {
          "iopub.status.busy": "2024-04-01T12:40:24.088307Z",
          "iopub.status.idle": "2024-04-01T12:40:24.089027Z",
          "shell.execute_reply.started": "2024-04-01T12:40:24.088745Z",
          "shell.execute_reply": "2024-04-01T12:40:24.088767Z"
        },
        "trusted": true,
        "id": "qsOAjD17PdxT"
      },
      "execution_count": null,
      "outputs": []
    },
    {
      "cell_type": "code",
      "source": [
        "!pip install torch torchvision -f https://download.pytorch.org/whl/cu101/torch_stable.html"
      ],
      "metadata": {
        "execution": {
          "iopub.status.busy": "2024-04-01T12:40:24.090394Z",
          "iopub.status.idle": "2024-04-01T12:40:24.090729Z",
          "shell.execute_reply.started": "2024-04-01T12:40:24.09055Z",
          "shell.execute_reply": "2024-04-01T12:40:24.090562Z"
        },
        "trusted": true,
        "id": "NBJg-6kxPdxU"
      },
      "execution_count": null,
      "outputs": []
    },
    {
      "cell_type": "code",
      "source": [
        "!pip install git+https://github.com/facebookresearch/fvcore\n",
        "\n",
        "!pip install cython; pip install git+https://github.com/philferriere/cocoapi.git\n"
      ],
      "metadata": {
        "execution": {
          "iopub.status.busy": "2024-04-01T12:40:24.092189Z",
          "iopub.status.idle": "2024-04-01T12:40:24.092517Z",
          "shell.execute_reply.started": "2024-04-01T12:40:24.092356Z",
          "shell.execute_reply": "2024-04-01T12:40:24.09237Z"
        },
        "trusted": true,
        "id": "wYMsAuRUPdxU"
      },
      "execution_count": null,
      "outputs": []
    },
    {
      "cell_type": "code",
      "source": [
        "import torch, torchvision\n",
        "print(torch.__version__, torch.cuda.is_available())"
      ],
      "metadata": {
        "execution": {
          "iopub.status.busy": "2024-04-01T12:40:24.094089Z",
          "iopub.status.idle": "2024-04-01T12:40:24.094424Z",
          "shell.execute_reply.started": "2024-04-01T12:40:24.094265Z",
          "shell.execute_reply": "2024-04-01T12:40:24.094279Z"
        },
        "trusted": true,
        "id": "EA5dS9VgPdxV"
      },
      "execution_count": null,
      "outputs": []
    },
    {
      "cell_type": "code",
      "source": [
        "!git clone https://github.com/facebookresearch/detectron2.git"
      ],
      "metadata": {
        "execution": {
          "iopub.status.busy": "2024-04-01T12:40:24.095792Z",
          "iopub.status.idle": "2024-04-01T12:40:24.096109Z",
          "shell.execute_reply.started": "2024-04-01T12:40:24.095947Z",
          "shell.execute_reply": "2024-04-01T12:40:24.095959Z"
        },
        "trusted": true,
        "id": "cUKYgmsUPdxV"
      },
      "execution_count": null,
      "outputs": []
    },
    {
      "cell_type": "code",
      "source": [
        "!pip install detectron2\n"
      ],
      "metadata": {
        "execution": {
          "iopub.status.busy": "2024-04-01T12:40:24.097719Z",
          "iopub.status.idle": "2024-04-01T12:40:24.098034Z",
          "shell.execute_reply.started": "2024-04-01T12:40:24.097883Z",
          "shell.execute_reply": "2024-04-01T12:40:24.097896Z"
        },
        "trusted": true,
        "id": "suwI31ddPdxV"
      },
      "execution_count": null,
      "outputs": []
    },
    {
      "cell_type": "code",
      "source": [
        "!pip install torch torchvision torchaudio cython matplotlib\n",
        "!git clone https://github.com/facebookresearch/detectron2.git\n"
      ],
      "metadata": {
        "execution": {
          "iopub.status.busy": "2024-04-01T12:40:24.099628Z",
          "iopub.status.idle": "2024-04-01T12:40:24.099986Z",
          "shell.execute_reply.started": "2024-04-01T12:40:24.099827Z",
          "shell.execute_reply": "2024-04-01T12:40:24.099841Z"
        },
        "trusted": true,
        "id": "PlDD8lELPdxW"
      },
      "execution_count": null,
      "outputs": []
    },
    {
      "cell_type": "code",
      "source": [
        "!pip install antlr4-python3-runtime==4.9.3 black==24.3.0 detectron2==0.6 fvcore==0.1.5.post20221221 hydra-core==1.3.2 iopath==0.1.9 omegaconf==2.3.0 packaging==24.0 pathspec==0.12.1 pycocotools==2.0.7"
      ],
      "metadata": {
        "execution": {
          "iopub.status.busy": "2024-04-01T12:40:24.104062Z",
          "iopub.status.idle": "2024-04-01T12:40:24.104414Z",
          "shell.execute_reply.started": "2024-04-01T12:40:24.104248Z",
          "shell.execute_reply": "2024-04-01T12:40:24.104262Z"
        },
        "trusted": true,
        "id": "Mh_5ECWUPdxW"
      },
      "execution_count": null,
      "outputs": []
    },
    {
      "cell_type": "code",
      "source": [
        "!python -m pip install -e detectron2"
      ],
      "metadata": {
        "execution": {
          "iopub.status.busy": "2024-04-01T12:40:24.105571Z",
          "iopub.status.idle": "2024-04-01T12:40:24.105922Z",
          "shell.execute_reply.started": "2024-04-01T12:40:24.10576Z",
          "shell.execute_reply": "2024-04-01T12:40:24.105774Z"
        },
        "trusted": true,
        "id": "iL1Ns8W3PdxW"
      },
      "execution_count": null,
      "outputs": []
    },
    {
      "cell_type": "code",
      "source": [
        "# Reload sys module to pick up changes to environment variables\n",
        "import sys\n",
        "\n",
        "# Import installed detectron2 (adjust path if needed)\n",
        "sys.path.append('/kaggle/working/detectron2')  # Replace with your installation path\n",
        "import detectron2\n",
        "\n"
      ],
      "metadata": {
        "execution": {
          "iopub.status.busy": "2024-04-01T12:40:24.107008Z",
          "iopub.status.idle": "2024-04-01T12:40:24.107319Z",
          "shell.execute_reply.started": "2024-04-01T12:40:24.107166Z",
          "shell.execute_reply": "2024-04-01T12:40:24.107178Z"
        },
        "trusted": true,
        "id": "weFNt1ASPdxW"
      },
      "execution_count": null,
      "outputs": []
    },
    {
      "cell_type": "code",
      "source": [
        "\n",
        "from detectron2.engine import DefaultPredictor\n",
        "from detectron2.config import get_cfg\n",
        "from detectron2.utils.visualizer import Visualizer\n",
        "from detectron2.data import MetadataCatalog\n",
        "import cv2"
      ],
      "metadata": {
        "execution": {
          "iopub.status.busy": "2024-04-01T12:40:24.109442Z",
          "iopub.status.idle": "2024-04-01T12:40:24.109817Z",
          "shell.execute_reply.started": "2024-04-01T12:40:24.10962Z",
          "shell.execute_reply": "2024-04-01T12:40:24.109634Z"
        },
        "trusted": true,
        "id": "4hDabh78PdxX"
      },
      "execution_count": null,
      "outputs": []
    },
    {
      "cell_type": "code",
      "source": [
        "cfg = get_cfg()\n",
        "cfg.merge_from_file(\"/kaggle/input/detect-footpath-vendors/Detect footpath vendors.v6i.yolov8-obb/data.yaml\")"
      ],
      "metadata": {
        "execution": {
          "iopub.status.busy": "2024-04-01T12:40:24.11155Z",
          "iopub.status.idle": "2024-04-01T12:40:24.111948Z",
          "shell.execute_reply.started": "2024-04-01T12:40:24.111758Z",
          "shell.execute_reply": "2024-04-01T12:40:24.111774Z"
        },
        "trusted": true,
        "id": "-tmHzfFVPdxX"
      },
      "execution_count": null,
      "outputs": []
    },
    {
      "cell_type": "code",
      "source": [],
      "metadata": {
        "id": "tRt0ap3SPdxX"
      },
      "execution_count": null,
      "outputs": []
    }
  ]
}