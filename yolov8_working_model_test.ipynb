{
  "nbformat": 4,
  "nbformat_minor": 0,
  "metadata": {
    "colab": {
      "provenance": [],
      "authorship_tag": "ABX9TyMnFpfJh6rSKrpFBBdeYKfS",
      "include_colab_link": true
    },
    "kernelspec": {
      "name": "python3",
      "display_name": "Python 3"
    },
    "language_info": {
      "name": "python"
    }
  },
  "cells": [
    {
      "cell_type": "markdown",
      "metadata": {
        "id": "view-in-github",
        "colab_type": "text"
      },
      "source": [
        "<a href=\"https://colab.research.google.com/github/caprolaliac/image_processing_YOLOv8/blob/main/yolov8_working_model_test.ipynb\" target=\"_parent\"><img src=\"https://colab.research.google.com/assets/colab-badge.svg\" alt=\"Open In Colab\"/></a>"
      ]
    },
    {
      "cell_type": "code",
      "execution_count": null,
      "metadata": {
        "id": "E9UrUXkko9Rh"
      },
      "outputs": [],
      "source": [
        "!pip install ultralytics -U -q"
      ]
    },
    {
      "cell_type": "code",
      "source": [
        "file_path = input(\"Enter the path of the file: \")"
      ],
      "metadata": {
        "colab": {
          "base_uri": "https://localhost:8080/"
        },
        "id": "8dVuteSSwreM",
        "outputId": "c8b92e59-255a-43c7-be52-d14d0a58c881"
      },
      "execution_count": null,
      "outputs": [
        {
          "name": "stdout",
          "output_type": "stream",
          "text": [
            "Enter the path of the file: /content/WhatsApp-Image-2023-02-24-at-11-22-22-PM-1-_jpeg.rf.1c6eddd75613f06dcc366949b2dabab8.jpg\n"
          ]
        }
      ]
    },
    {
      "cell_type": "code",
      "source": [
        "from ultralytics import YOLO\n",
        "model = YOLO('/content/best.pt')\n",
        "results = model(file_path,imgsz=640, save=True)"
      ],
      "metadata": {
        "colab": {
          "base_uri": "https://localhost:8080/"
        },
        "id": "vqN_K4kdvBx2",
        "outputId": "89a39096-2bda-4e28-8832-dec0d2121b0a"
      },
      "execution_count": null,
      "outputs": [
        {
          "output_type": "stream",
          "name": "stdout",
          "text": [
            "\n",
            "image 1/1 /content/WhatsApp-Image-2023-02-24-at-11-22-22-PM-1-_jpeg.rf.1c6eddd75613f06dcc366949b2dabab8.jpg: 640x640 6168.5ms\n",
            "Speed: 5.3ms preprocess, 6168.5ms inference, 2.9ms postprocess per image at shape (1, 3, 640, 640)\n",
            "Results saved to \u001b[1mruns/obb/predict6\u001b[0m\n"
          ]
        }
      ]
    }
  ]
}